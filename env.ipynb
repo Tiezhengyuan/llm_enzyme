{
 "cells": [
  {
   "cell_type": "code",
   "execution_count": 6,
   "id": "c2bc412b-7092-4f38-9907-3a65014aac23",
   "metadata": {},
   "outputs": [
    {
     "name": "stdout",
     "output_type": "stream",
     "text": [
      "Sat Feb  8 13:09:54 2025       \n",
      "+-----------------------------------------------------------------------------------------+\n",
      "| NVIDIA-SMI 565.57.01              Driver Version: 565.57.01      CUDA Version: 12.7     |\n",
      "|-----------------------------------------+------------------------+----------------------+\n",
      "| GPU  Name                 Persistence-M | Bus-Id          Disp.A | Volatile Uncorr. ECC |\n",
      "| Fan  Temp   Perf          Pwr:Usage/Cap |           Memory-Usage | GPU-Util  Compute M. |\n",
      "|                                         |                        |               MIG M. |\n",
      "|=========================================+========================+======================|\n",
      "|   0  NVIDIA GeForce RTX 3060        On  |   00000000:01:00.0  On |                  N/A |\n",
      "|  0%   51C    P5             15W /  170W |    1157MiB /  12288MiB |     35%      Default |\n",
      "|                                         |                        |                  N/A |\n",
      "+-----------------------------------------+------------------------+----------------------+\n",
      "                                                                                         \n",
      "+-----------------------------------------------------------------------------------------+\n",
      "| Processes:                                                                              |\n",
      "|  GPU   GI   CI        PID   Type   Process name                              GPU Memory |\n",
      "|        ID   ID                                                               Usage      |\n",
      "|=========================================================================================|\n",
      "|    0   N/A  N/A      3257      G   /usr/lib/xorg/Xorg                            624MiB |\n",
      "|    0   N/A  N/A      3540      G   /usr/bin/gnome-shell                           92MiB |\n",
      "|    0   N/A  N/A      4890      G   ...seed-version=20250204-050150.294000        154MiB |\n",
      "|    0   N/A  N/A    102153      G   ...erProcess --variations-seed-version         54MiB |\n",
      "|    0   N/A  N/A   3343531      G   /usr/bin/nautilus                              56MiB |\n",
      "+-----------------------------------------------------------------------------------------+\n"
     ]
    }
   ],
   "source": [
    "# Checking Resource Constraints: GPU and NVIDIA \n",
    "!nvidia-smi"
   ]
  },
  {
   "cell_type": "code",
   "execution_count": null,
   "id": "4890b3d2-e0b5-4297-bb0a-5c8e10fbf246",
   "metadata": {},
   "outputs": [],
   "source": [
    "'''\n",
    "install pytorch\n",
    "https://pytorch.org/\n",
    "https://github.com/pytorch/vision#installation\n",
    "\n",
    "'''\n",
    "!conda activate py311-bk\n",
    "!pip install torch==2.0.0 torchvision==0.15.0 torchdata==0.6.0 --index-url https://download.pytorch.org/whl/cu118\n",
    "!pip install tf-keras"
   ]
  },
  {
   "cell_type": "code",
   "execution_count": null,
   "id": "4ff7886a-f5e5-4026-bd3e-8f48dd27b300",
   "metadata": {},
   "outputs": [],
   "source": [
    "   pip install transformers[torch] \n"
   ]
  },
  {
   "cell_type": "code",
   "execution_count": 9,
   "id": "32c98d40-fecc-43c2-aafc-00e72330c77a",
   "metadata": {},
   "outputs": [
    {
     "data": {
      "text/plain": [
       "('4.48.3', '1.3.0')"
      ]
     },
     "execution_count": 9,
     "metadata": {},
     "output_type": "execute_result"
    }
   ],
   "source": [
    "import accelerate\n",
    "import transformers\n",
    "\n",
    "transformers.__version__, accelerate.__version__"
   ]
  },
  {
   "cell_type": "code",
   "execution_count": 10,
   "id": "c16156aa-3e9b-4394-9e47-cc247beef799",
   "metadata": {},
   "outputs": [
    {
     "data": {
      "text/plain": [
       "True"
      ]
     },
     "execution_count": 10,
     "metadata": {},
     "output_type": "execute_result"
    }
   ],
   "source": [
    "#@title Checking that PyTorch Sees CUDAnot\n",
    "import torch\n",
    "torch.cuda.is_available()"
   ]
  },
  {
   "cell_type": "code",
   "execution_count": null,
   "id": "4b7ba687-ae0f-49a6-bf54-7c679e51315a",
   "metadata": {},
   "outputs": [],
   "source": []
  },
  {
   "cell_type": "markdown",
   "id": "d3d08687-4b2f-440a-a5ce-c10e3a92a66f",
   "metadata": {},
   "source": [
    "## python 3.10"
   ]
  },
  {
   "cell_type": "code",
   "execution_count": null,
   "id": "e6a1de45-780b-41ae-9592-f790b581fb4a",
   "metadata": {},
   "outputs": [],
   "source": [
    "# create and activate\n",
    "conda ceate -n py310 python=3.10\n",
    "conda activate py310"
   ]
  },
  {
   "cell_type": "code",
   "execution_count": null,
   "id": "3cd4a1a5-580f-4b9d-88fc-1f16bec7f14a",
   "metadata": {},
   "outputs": [],
   "source": [
    "# install packages\n",
    "pip install notebook\n",
    "pip install pandas numpy matplotlib\n",
    "pip intall scipy\n",
    "pip install scikit-learn\n",
    "pip install lxml\n",
    "pip install biopython"
   ]
  },
  {
   "cell_type": "code",
   "execution_count": null,
   "id": "b19dea12-f455-4969-91ae-e0ad0b6b5891",
   "metadata": {},
   "outputs": [],
   "source": [
    "# https://pytorch.org/get-started/previous-versions/\n",
    "# CUDA 11.7\n",
    "pip install torch==2.0.0 torchvision==0.15.1 torchaudio==2.0.1\n"
   ]
  },
  {
   "cell_type": "code",
   "execution_count": null,
   "id": "4a234ff0-344f-4236-a5ad-07a84c88239c",
   "metadata": {},
   "outputs": [],
   "source": [
    "# Hugging-face: transformers\n",
    "pip install transformers tokenizer"
   ]
  },
  {
   "cell_type": "code",
   "execution_count": null,
   "id": "77f8ff49-42ad-454c-8612-1fa59b5c09df",
   "metadata": {},
   "outputs": [],
   "source": [
    "# exit\n",
    "conda deactivate"
   ]
  }
 ],
 "metadata": {
  "kernelspec": {
   "display_name": "Python 3 (ipykernel)",
   "language": "python",
   "name": "python3"
  },
  "language_info": {
   "codemirror_mode": {
    "name": "ipython",
    "version": 3
   },
   "file_extension": ".py",
   "mimetype": "text/x-python",
   "name": "python",
   "nbconvert_exporter": "python",
   "pygments_lexer": "ipython3",
   "version": "3.10.16"
  }
 },
 "nbformat": 4,
 "nbformat_minor": 5
}
