{
 "cells": [
  {
   "cell_type": "code",
   "execution_count": null,
   "id": "3616bc47-3392-4087-95a7-3ebb844dc6f4",
   "metadata": {},
   "outputs": [],
   "source": [
    "## predict all trained data."
   ]
  },
  {
   "cell_type": "code",
   "execution_count": null,
   "id": "2d2fffb0-73f5-4996-afe0-71bb850305b0",
   "metadata": {},
   "outputs": [],
   "source": [
    "import re\n",
    "n=m=0\n",
    "infile = \"data/temperature_mask/uniprot_sprot_mask.txt\"\n",
    "outfile = \"data/predict/uniprot_sprot_pred.txt\"\n",
    "with open(infile, 'r') as IN, open(outfile, 'w') as OUT:\n",
    "    for line in IN:\n",
    "        try:\n",
    "            line = line.rstrip()\n",
    "            aa, temp = line.split(' is ')\n",
    "            mask_line = re.sub(r' is .+', ' is <mask>', line)\n",
    "            pred = fill_mask(mask_line)\n",
    "            items = [aa, str(temp)] + [f\"{i['score']}:{i['token_str'].replace(' ', '')}\" for i in pred]\n",
    "            # print(temp, [i['token_str'] for i in pred])\n",
    "            items.append('\\n')\n",
    "            OUT.write('\\t'.join(items))\n",
    "            n+=1\n",
    "        except Exception as e:\n",
    "            m+=1\n",
    "            print(e)\n",
    "        # break\n",
    "print(f\"Total protein = {n}. failure protein={m}\")"
   ]
  },
  {
   "cell_type": "code",
   "execution_count": null,
   "id": "4fb5fee5-5a88-4660-ae93-8e6b46873f88",
   "metadata": {},
   "outputs": [],
   "source": [
    "import re\n",
    "n=m=0\n",
    "infile = \"data/temperature_mask/temperature_mask.txt\"\n",
    "outfile = \"data/temperature_pred/temperature_pred.txt\"\n",
    "with open(outfile, 'w') as OUT, open(infile, 'r') as IN:\n",
    "    for line in IN:\n",
    "        try:\n",
    "            line = line.rstrip()\n",
    "            aa, temp = line.split(' is ')\n",
    "            items = [aa, temp]\n",
    "            mask_line = re.sub(r'\\d+', '<mask>', line)\n",
    "            # print(_line)\n",
    "            pred = fill_mask(mask_line)\n",
    "            items += [f\"{i['score']}:{i['token_str'].replace(' ', '')}\" for i in pred]\n",
    "            items.append('\\n')\n",
    "            OUT.write('\\t'.join(items))\n",
    "            n+=1\n",
    "        except Exception as e:\n",
    "            m+=1\n",
    "            # print(e)\n",
    "print(f\"Total protein = {n}. failure protein={m}\")"
   ]
  },
  {
   "cell_type": "code",
   "execution_count": null,
   "id": "0ac6600b-25cc-45ba-9fad-1550eba4ecab",
   "metadata": {},
   "outputs": [],
   "source": []
  },
  {
   "cell_type": "code",
   "execution_count": null,
   "id": "6b41b7be-9234-4633-9864-b8cccdd102e0",
   "metadata": {},
   "outputs": [],
   "source": []
  },
  {
   "cell_type": "code",
   "execution_count": null,
   "id": "2c140613-8471-4566-bbde-8789fe367ac9",
   "metadata": {},
   "outputs": [],
   "source": []
  }
 ],
 "metadata": {
  "kernelspec": {
   "display_name": "Python 3 (ipykernel)",
   "language": "python",
   "name": "python3"
  },
  "language_info": {
   "codemirror_mode": {
    "name": "ipython",
    "version": 3
   },
   "file_extension": ".py",
   "mimetype": "text/x-python",
   "name": "python",
   "nbconvert_exporter": "python",
   "pygments_lexer": "ipython3",
   "version": "3.11.11"
  }
 },
 "nbformat": 4,
 "nbformat_minor": 5
}
