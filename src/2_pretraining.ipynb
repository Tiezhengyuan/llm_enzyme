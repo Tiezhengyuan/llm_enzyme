{
 "cells": [
  {
   "cell_type": "markdown",
   "metadata": {
    "id": "M1oqh0F6W3ad"
   },
   "source": [
    "# Train RoBERTa language model for predicting optimum temperature"
   ]
  },
  {
   "cell_type": "code",
   "execution_count": 4,
   "metadata": {},
   "outputs": [
    {
     "data": {
      "text/plain": [
       "True"
      ]
     },
     "execution_count": 4,
     "metadata": {},
     "output_type": "execute_result"
    }
   ],
   "source": [
    "#@title Checking that PyTorch Sees CUDAnot\n",
    "import torch\n",
    "torch.cuda.is_available()"
   ]
  },
  {
   "cell_type": "code",
   "execution_count": 8,
   "metadata": {
    "colab": {
     "base_uri": "https://localhost:8080/"
    },
    "executionInfo": {
     "elapsed": 1546,
     "status": "ok",
     "timestamp": 1611303265026,
     "user": {
      "displayName": "Karan Sonawane",
      "photoUrl": "https://lh3.googleusercontent.com/a-/AOh14GjWjX1_4b0iu2fEkjbIRKIHq-Molc5N_CnbcU75=s64",
      "userId": "05479461208077736330"
     },
     "user_tz": -330
    },
    "id": "kD140sFjh0LQ",
    "outputId": "466229fc-5980-4ced-ffb7-0035fba3ff73"
   },
   "outputs": [
    {
     "data": {
      "text/plain": [
       "('2.0.0+cu117', '1.26.4')"
      ]
     },
     "execution_count": 8,
     "metadata": {},
     "output_type": "execute_result"
    }
   ],
   "source": [
    "torch.__version__, np.__version__"
   ]
  },
  {
   "cell_type": "markdown",
   "metadata": {},
   "source": [
    "# pretrain model"
   ]
  },
  {
   "cell_type": "code",
   "execution_count": 15,
   "metadata": {},
   "outputs": [],
   "source": [
    "# load the Tokenizer in Transformers\n",
    "from transformers import RobertaTokenizer\n",
    "\n",
    "output_name = 'KantaiBERT'\n",
    "tokenizer = RobertaTokenizer.from_pretrained(f\"../{output_name}\", max_length=512)"
   ]
  },
  {
   "cell_type": "code",
   "execution_count": 1,
   "metadata": {
    "id": "LTXXutqeDzPi"
   },
   "outputs": [
    {
     "name": "stderr",
     "output_type": "stream",
     "text": [
      "/home/yuan/anaconda3/envs/py310/lib/python3.10/site-packages/tqdm/auto.py:21: TqdmWarning: IProgress not found. Please update jupyter and ipywidgets. See https://ipywidgets.readthedocs.io/en/stable/user_install.html\n",
      "  from .autonotebook import tqdm as notebook_tqdm\n"
     ]
    }
   ],
   "source": [
    "# Step 7: Defining the configuration of the Model\n",
    "from transformers import RobertaConfig\n",
    "\n",
    "config = RobertaConfig(\n",
    "    vocab_size=52_000,\n",
    "    max_position_embeddings=514,\n",
    "    num_attention_heads=12,\n",
    "    num_hidden_layers=6,\n",
    "    type_vocab_size=1,\n",
    ")"
   ]
  },
  {
   "cell_type": "code",
   "execution_count": 9,
   "metadata": {
    "colab": {
     "base_uri": "https://localhost:8080/"
    },
    "executionInfo": {
     "elapsed": 1631,
     "status": "ok",
     "timestamp": 1611303394881,
     "user": {
      "displayName": "Karan Sonawane",
      "photoUrl": "https://lh3.googleusercontent.com/a-/AOh14GjWjX1_4b0iu2fEkjbIRKIHq-Molc5N_CnbcU75=s64",
      "userId": "05479461208077736330"
     },
     "user_tz": -330
    },
    "id": "5-UsuK9Ps0H7",
    "outputId": "405400e1-733f-490b-de7b-ae249d95ac01"
   },
   "outputs": [
    {
     "name": "stdout",
     "output_type": "stream",
     "text": [
      "RobertaConfig {\n",
      "  \"attention_probs_dropout_prob\": 0.1,\n",
      "  \"bos_token_id\": 0,\n",
      "  \"classifier_dropout\": null,\n",
      "  \"eos_token_id\": 2,\n",
      "  \"hidden_act\": \"gelu\",\n",
      "  \"hidden_dropout_prob\": 0.1,\n",
      "  \"hidden_size\": 768,\n",
      "  \"initializer_range\": 0.02,\n",
      "  \"intermediate_size\": 3072,\n",
      "  \"layer_norm_eps\": 1e-12,\n",
      "  \"max_position_embeddings\": 514,\n",
      "  \"model_type\": \"roberta\",\n",
      "  \"num_attention_heads\": 12,\n",
      "  \"num_hidden_layers\": 6,\n",
      "  \"pad_token_id\": 1,\n",
      "  \"position_embedding_type\": \"absolute\",\n",
      "  \"transformers_version\": \"4.48.3\",\n",
      "  \"type_vocab_size\": 1,\n",
      "  \"use_cache\": true,\n",
      "  \"vocab_size\": 52000\n",
      "}\n",
      "\n"
     ]
    }
   ],
   "source": [
    "print(config)"
   ]
  },
  {
   "cell_type": "code",
   "execution_count": 10,
   "metadata": {
    "colab": {
     "base_uri": "https://localhost:8080/"
    },
    "executionInfo": {
     "elapsed": 4263,
     "status": "ok",
     "timestamp": 1611303404170,
     "user": {
      "displayName": "Karan Sonawane",
      "photoUrl": "https://lh3.googleusercontent.com/a-/AOh14GjWjX1_4b0iu2fEkjbIRKIHq-Molc5N_CnbcU75=s64",
      "userId": "05479461208077736330"
     },
     "user_tz": -330
    },
    "id": "BzMqR-dzF4Ro",
    "outputId": "e71ab069-0d78-4592-f4cc-158050b47f75"
   },
   "outputs": [
    {
     "name": "stderr",
     "output_type": "stream",
     "text": [
      "/home/yuan/anaconda3/envs/py310/lib/python3.10/site-packages/torchvision/datapoints/__init__.py:12: UserWarning: The torchvision.datapoints and torchvision.transforms.v2 namespaces are still Beta. While we do not expect major breaking changes, some APIs may still change according to user feedback. Please submit any feedback you may have in this issue: https://github.com/pytorch/vision/issues/6753, and you can also check out https://github.com/pytorch/vision/issues/7319 to learn more about the APIs that we suspect might involve future changes. You can silence this warning by calling torchvision.disable_beta_transforms_warning().\n",
      "  warnings.warn(_BETA_TRANSFORMS_WARNING)\n",
      "/home/yuan/anaconda3/envs/py310/lib/python3.10/site-packages/torchvision/transforms/v2/__init__.py:54: UserWarning: The torchvision.datapoints and torchvision.transforms.v2 namespaces are still Beta. While we do not expect major breaking changes, some APIs may still change according to user feedback. Please submit any feedback you may have in this issue: https://github.com/pytorch/vision/issues/6753, and you can also check out https://github.com/pytorch/vision/issues/7319 to learn more about the APIs that we suspect might involve future changes. You can silence this warning by calling torchvision.disable_beta_transforms_warning().\n",
      "  warnings.warn(_BETA_TRANSFORMS_WARNING)\n"
     ]
    },
    {
     "name": "stdout",
     "output_type": "stream",
     "text": [
      "RobertaForMaskedLM(\n",
      "  (roberta): RobertaModel(\n",
      "    (embeddings): RobertaEmbeddings(\n",
      "      (word_embeddings): Embedding(52000, 768, padding_idx=1)\n",
      "      (position_embeddings): Embedding(514, 768, padding_idx=1)\n",
      "      (token_type_embeddings): Embedding(1, 768)\n",
      "      (LayerNorm): LayerNorm((768,), eps=1e-12, elementwise_affine=True)\n",
      "      (dropout): Dropout(p=0.1, inplace=False)\n",
      "    )\n",
      "    (encoder): RobertaEncoder(\n",
      "      (layer): ModuleList(\n",
      "        (0-5): 6 x RobertaLayer(\n",
      "          (attention): RobertaAttention(\n",
      "            (self): RobertaSelfAttention(\n",
      "              (query): Linear(in_features=768, out_features=768, bias=True)\n",
      "              (key): Linear(in_features=768, out_features=768, bias=True)\n",
      "              (value): Linear(in_features=768, out_features=768, bias=True)\n",
      "              (dropout): Dropout(p=0.1, inplace=False)\n",
      "            )\n",
      "            (output): RobertaSelfOutput(\n",
      "              (dense): Linear(in_features=768, out_features=768, bias=True)\n",
      "              (LayerNorm): LayerNorm((768,), eps=1e-12, elementwise_affine=True)\n",
      "              (dropout): Dropout(p=0.1, inplace=False)\n",
      "            )\n",
      "          )\n",
      "          (intermediate): RobertaIntermediate(\n",
      "            (dense): Linear(in_features=768, out_features=3072, bias=True)\n",
      "            (intermediate_act_fn): GELUActivation()\n",
      "          )\n",
      "          (output): RobertaOutput(\n",
      "            (dense): Linear(in_features=3072, out_features=768, bias=True)\n",
      "            (LayerNorm): LayerNorm((768,), eps=1e-12, elementwise_affine=True)\n",
      "            (dropout): Dropout(p=0.1, inplace=False)\n",
      "          )\n",
      "        )\n",
      "      )\n",
      "    )\n",
      "  )\n",
      "  (lm_head): RobertaLMHead(\n",
      "    (dense): Linear(in_features=768, out_features=768, bias=True)\n",
      "    (layer_norm): LayerNorm((768,), eps=1e-12, elementwise_affine=True)\n",
      "    (decoder): Linear(in_features=768, out_features=52000, bias=True)\n",
      "  )\n",
      ")\n"
     ]
    }
   ],
   "source": [
    "#@title Step 9: Initializing a RoBERTa masked Model From Scratch\n",
    "from transformers import RobertaForMaskedLM\n",
    "\n",
    "model = RobertaForMaskedLM(config=config)\n",
    "print(model)"
   ]
  },
  {
   "cell_type": "code",
   "execution_count": 11,
   "metadata": {
    "colab": {
     "base_uri": "https://localhost:8080/"
    },
    "executionInfo": {
     "elapsed": 1417,
     "status": "ok",
     "timestamp": 1611303407295,
     "user": {
      "displayName": "Karan Sonawane",
      "photoUrl": "https://lh3.googleusercontent.com/a-/AOh14GjWjX1_4b0iu2fEkjbIRKIHq-Molc5N_CnbcU75=s64",
      "userId": "05479461208077736330"
     },
     "user_tz": -330
    },
    "id": "jU6JhBSTKiaM",
    "outputId": "7cefac4a-263c-4785-d91f-f9020bfd3d1c"
   },
   "outputs": [
    {
     "name": "stdout",
     "output_type": "stream",
     "text": [
      "83504416\n"
     ]
    }
   ],
   "source": [
    "print(model.num_parameters())"
   ]
  },
  {
   "cell_type": "code",
   "execution_count": 12,
   "metadata": {
    "colab": {
     "base_uri": "https://localhost:8080/"
    },
    "executionInfo": {
     "elapsed": 1327,
     "status": "ok",
     "timestamp": 1611303409350,
     "user": {
      "displayName": "Karan Sonawane",
      "photoUrl": "https://lh3.googleusercontent.com/a-/AOh14GjWjX1_4b0iu2fEkjbIRKIHq-Molc5N_CnbcU75=s64",
      "userId": "05479461208077736330"
     },
     "user_tz": -330
    },
    "id": "-BXhhe7twTxb",
    "outputId": "5f78d978-6e80-477e-aebc-3a1c9119b5e9"
   },
   "outputs": [
    {
     "name": "stdout",
     "output_type": "stream",
     "text": [
      "Number of matrices and vectors= 106\n"
     ]
    }
   ],
   "source": [
    "#@title Exploring the Parameters\n",
    "LP=list(model.parameters())\n",
    "lp=len(LP)\n",
    "print('Number of matrices and vectors=', lp)\n",
    "# for p in range(0,lp):\n",
    "#   print(LP[p])"
   ]
  },
  {
   "cell_type": "code",
   "execution_count": 13,
   "metadata": {
    "colab": {
     "base_uri": "https://localhost:8080/"
    },
    "executionInfo": {
     "elapsed": 1596,
     "status": "ok",
     "timestamp": 1611303413503,
     "user": {
      "displayName": "Karan Sonawane",
      "photoUrl": "https://lh3.googleusercontent.com/a-/AOh14GjWjX1_4b0iu2fEkjbIRKIHq-Molc5N_CnbcU75=s64",
      "userId": "05479461208077736330"
     },
     "user_tz": -330
    },
    "id": "Ej82kG6K3akQ",
    "outputId": "09db7a80-a3c2-4cfb-9a80-dd172a1bffa1"
   },
   "outputs": [
    {
     "name": "stdout",
     "output_type": "stream",
     "text": [
      "83504416\n"
     ]
    }
   ],
   "source": [
    "#@title Counting the parameters\n",
    "np=0\n",
    "for p in range(0,lp):#number of tensors\n",
    "  PL2=True\n",
    "  try:\n",
    "    L2=len(LP[p][0]) #check if 2D\n",
    "  except:\n",
    "    L2=1             #not 2D but 1D\n",
    "    PL2=False\n",
    "  L1=len(LP[p])      \n",
    "  L3=L1*L2\n",
    "  np+=L3             # number of parameters per tensor\n",
    "  # if PL2==True:\n",
    "  #   print(p,L1,L2,L3)  # displaying the sizes of the parameters\n",
    "  # if PL2==False:\n",
    "  #   print(p,L1,L3)  # displaying the sizes of the parameters\n",
    "\n",
    "print(np)              # total number of parameters"
   ]
  },
  {
   "cell_type": "code",
   "execution_count": 18,
   "metadata": {
    "colab": {
     "base_uri": "https://localhost:8080/"
    },
    "executionInfo": {
     "elapsed": 22936,
     "status": "ok",
     "timestamp": 1611303439451,
     "user": {
      "displayName": "Karan Sonawane",
      "photoUrl": "https://lh3.googleusercontent.com/a-/AOh14GjWjX1_4b0iu2fEkjbIRKIHq-Molc5N_CnbcU75=s64",
      "userId": "05479461208077736330"
     },
     "user_tz": -330
    },
    "id": "GlvP_A-THEEl",
    "outputId": "ce117d0d-56d0-473f-eb4e-9efffc7b25dc"
   },
   "outputs": [
    {
     "name": "stdout",
     "output_type": "stream",
     "text": [
      "CPU times: user 3h 21min 26s, sys: 3.81 s, total: 3h 21min 30s\n",
      "Wall time: 3h 21min 30s\n"
     ]
    }
   ],
   "source": [
    "%%time\n",
    "# Building the Dataset\n",
    "# the database is deprecated in new transformers\n",
    "from transformers import LineByLineTextDataset\n",
    "dataset = LineByLineTextDataset(\n",
    "    tokenizer=tokenizer,\n",
    "    file_path=f\"../data/temperature_mask/temperature_mask.txt\", \n",
    "    block_size=128\n",
    ")"
   ]
  },
  {
   "cell_type": "code",
   "execution_count": 19,
   "metadata": {},
   "outputs": [
    {
     "data": {
      "text/plain": [
       "[{'input_ids': tensor([    0,  1587,  2060,   327,  1042,   589,  4350, 36407,   668,  8528,\n",
       "           1479,   409,  4162,   421,   470,   998,   266,  3889,    53,  3156,\n",
       "            684, 16197,  3101,  2158,   358,   484,  4786,   826, 34513,  2741,\n",
       "            395,  2028,   470,  1441,  5857,  1954, 28438,   680,  3142, 30834,\n",
       "           1676, 26477,   795,   275,  6018,   288,  1557, 10363,   402,  1517,\n",
       "            269,   811,   308,  1960,  5759,  1296,   281, 17845,   492,   360,\n",
       "            549,   274,  1918,    44,  1704,   322,   591,  5817,  1902,   272,\n",
       "           2121, 30580,   667, 32575,  1794, 30653,  1330,   441,  6270,  9707,\n",
       "           2827,  7472,   225,   311,   225,   436,   225,     2])},\n",
       " {'input_ids': tensor([    0,  2651,  1825,   274,   842,   362,  4802,   452,   656, 23597,\n",
       "           2784,  1525,   348,  1346,  3762, 23879,   336,  3457,  4162,  1871,\n",
       "           4043,   706, 10542,  5092, 18988,   583,   286,  4172,   778,  8828,\n",
       "            840,   713,  2105,   354,  5975,   395,  3671,  1365,  5737,   750,\n",
       "            273, 35217,   859,  5042,   299,  2258, 27283,   326,  1214,  2041,\n",
       "           1647, 13653,   551,   324,  9677,  4882,   558, 11099,   537,  2047,\n",
       "          51426,   455,  1239,  2206,  2497,   354,  2803,  1076,   364, 27562,\n",
       "           9490,   488,   589,  4478,   298,  2562,   501,   394,  4132,   225,\n",
       "            311,   225,   436,   225,     2])}]"
      ]
     },
     "execution_count": 19,
     "metadata": {},
     "output_type": "execute_result"
    }
   ],
   "source": [
    "dataset.examples[:2]"
   ]
  },
  {
   "cell_type": "code",
   "execution_count": null,
   "metadata": {},
   "outputs": [],
   "source": []
  },
  {
   "cell_type": "code",
   "execution_count": 20,
   "metadata": {
    "id": "zTgWPa9Dipk2"
   },
   "outputs": [],
   "source": [
    "#Step 11: Defining a Data Collator\n",
    "from transformers import DataCollatorForLanguageModeling\n",
    "\n",
    "data_collator = DataCollatorForLanguageModeling(tokenizer=tokenizer, mlm=True, mlm_probability=0.15)"
   ]
  },
  {
   "cell_type": "code",
   "execution_count": 21,
   "metadata": {
    "id": "YpvnFFmZJD-N"
   },
   "outputs": [],
   "source": [
    "#Step 12: Initializing the Trainer\n",
    "from transformers import TrainingArguments, Trainer\n",
    "\n",
    "train_name = \"KantaiBERT\"\n",
    "\n",
    "training_args = TrainingArguments(\n",
    "    output_dir=train_name,\n",
    "    overwrite_output_dir=True,\n",
    "    num_train_epochs=1,\n",
    "    per_device_train_batch_size=16,\n",
    "    save_steps=10_000,\n",
    "    save_total_limit=2,\n",
    ")\n",
    "\n",
    "trainer = Trainer(\n",
    "    model=model,\n",
    "    args=training_args,\n",
    "    data_collator=data_collator,\n",
    "    train_dataset=dataset,\n",
    ")"
   ]
  },
  {
   "cell_type": "code",
   "execution_count": null,
   "metadata": {
    "scrolled": true
   },
   "outputs": [
    {
     "data": {
      "text/html": [
       "\n",
       "    <div>\n",
       "      \n",
       "      <progress value='255' max='99388' style='width:300px; height:20px; vertical-align: middle;'></progress>\n",
       "      [  255/99388 00:50 < 5:26:39, 5.06 it/s, Epoch 0.00/1]\n",
       "    </div>\n",
       "    <table border=\"1\" class=\"dataframe\">\n",
       "  <thead>\n",
       " <tr style=\"text-align: left;\">\n",
       "      <th>Step</th>\n",
       "      <th>Training Loss</th>\n",
       "    </tr>\n",
       "  </thead>\n",
       "  <tbody>\n",
       "  </tbody>\n",
       "</table><p>"
      ],
      "text/plain": [
       "<IPython.core.display.HTML object>"
      ]
     },
     "metadata": {},
     "output_type": "display_data"
    }
   ],
   "source": [
    "%%time\n",
    "#Step 13: Pre-training the Model\n",
    "trainer.train()"
   ]
  },
  {
   "cell_type": "code",
   "execution_count": 20,
   "metadata": {
    "id": "QDNgPls7_l13"
   },
   "outputs": [],
   "source": [
    "# Saving the Final Model(+tokenizer + config) to disk\n",
    "trainer.save_model(f\"./{train_name}\")"
   ]
  },
  {
   "cell_type": "code",
   "execution_count": null,
   "metadata": {},
   "outputs": [],
   "source": []
  },
  {
   "cell_type": "code",
   "execution_count": 50,
   "metadata": {
    "colab": {
     "base_uri": "https://localhost:8080/"
    },
    "executionInfo": {
     "elapsed": 6144,
     "status": "ok",
     "timestamp": 1611304118693,
     "user": {
      "displayName": "Karan Sonawane",
      "photoUrl": "https://lh3.googleusercontent.com/a-/AOh14GjWjX1_4b0iu2fEkjbIRKIHq-Molc5N_CnbcU75=s64",
      "userId": "05479461208077736330"
     },
     "user_tz": -330
    },
    "id": "ltXgXyCbAJLY",
    "outputId": "36ddf0da-9b07-4f97-b8ad-834827e4bc25"
   },
   "outputs": [
    {
     "name": "stderr",
     "output_type": "stream",
     "text": [
      "Device set to use cuda:0\n"
     ]
    }
   ],
   "source": [
    "# Language Modeling with the FillMaskPipeline\n",
    "from transformers import pipeline\n",
    "\n",
    "fill_mask = pipeline(\n",
    "    \"fill-mask\",\n",
    "    model=f\"./{train_name}\",\n",
    "    tokenizer=f\"./{train_name}\"\n",
    ")"
   ]
  },
  {
   "cell_type": "code",
   "execution_count": null,
   "metadata": {},
   "outputs": [],
   "source": []
  },
  {
   "cell_type": "code",
   "execution_count": 51,
   "metadata": {
    "colab": {
     "background_save": true
    },
    "id": "UIvgZ3S6AO0z",
    "outputId": "19c8ae6c-b5b3-4be9-c84e-772fabc5a5c9"
   },
   "outputs": [
    {
     "ename": "RuntimeError",
     "evalue": "Numpy is not available",
     "output_type": "error",
     "traceback": [
      "\u001b[0;31m---------------------------------------------------------------------------\u001b[0m",
      "\u001b[0;31mRuntimeError\u001b[0m                              Traceback (most recent call last)",
      "Cell \u001b[0;32mIn[51], line 1\u001b[0m\n\u001b[0;32m----> 1\u001b[0m pred \u001b[38;5;241m=\u001b[39m \u001b[43mfill_mask\u001b[49m\u001b[43m(\u001b[49m\u001b[38;5;124;43m\"\u001b[39;49m\u001b[38;5;124;43mRKGQIEVARNRERGLESEETEDEVPLTEGQTAEGQTETGTEEAPQTETGTEEAPIEHE is <mask>.\u001b[39;49m\u001b[38;5;124;43m\"\u001b[39;49m\u001b[43m)\u001b[49m\n\u001b[1;32m      2\u001b[0m res \u001b[38;5;241m=\u001b[39m [\u001b[38;5;28mlist\u001b[39m(pred[\u001b[38;5;241m0\u001b[39m])] \u001b[38;5;241m+\u001b[39m [\u001b[38;5;28mlist\u001b[39m(i\u001b[38;5;241m.\u001b[39mvalues()) \u001b[38;5;28;01mfor\u001b[39;00m i \u001b[38;5;129;01min\u001b[39;00m pred]\n\u001b[1;32m      3\u001b[0m \u001b[38;5;28;01mfor\u001b[39;00m i \u001b[38;5;129;01min\u001b[39;00m res:\n",
      "File \u001b[0;32m~/anaconda3/envs/py310/lib/python3.10/site-packages/transformers/pipelines/fill_mask.py:270\u001b[0m, in \u001b[0;36mFillMaskPipeline.__call__\u001b[0;34m(self, inputs, **kwargs)\u001b[0m\n\u001b[1;32m    248\u001b[0m \u001b[38;5;28;01mdef\u001b[39;00m\u001b[38;5;250m \u001b[39m\u001b[38;5;21m__call__\u001b[39m(\u001b[38;5;28mself\u001b[39m, inputs, \u001b[38;5;241m*\u001b[39m\u001b[38;5;241m*\u001b[39mkwargs):\n\u001b[1;32m    249\u001b[0m \u001b[38;5;250m    \u001b[39m\u001b[38;5;124;03m\"\"\"\u001b[39;00m\n\u001b[1;32m    250\u001b[0m \u001b[38;5;124;03m    Fill the masked token in the text(s) given as inputs.\u001b[39;00m\n\u001b[1;32m    251\u001b[0m \n\u001b[0;32m   (...)\u001b[0m\n\u001b[1;32m    268\u001b[0m \u001b[38;5;124;03m        - **token_str** (`str`) -- The predicted token (to replace the masked one).\u001b[39;00m\n\u001b[1;32m    269\u001b[0m \u001b[38;5;124;03m    \"\"\"\u001b[39;00m\n\u001b[0;32m--> 270\u001b[0m     outputs \u001b[38;5;241m=\u001b[39m \u001b[38;5;28;43msuper\u001b[39;49m\u001b[43m(\u001b[49m\u001b[43m)\u001b[49m\u001b[38;5;241;43m.\u001b[39;49m\u001b[38;5;21;43m__call__\u001b[39;49m\u001b[43m(\u001b[49m\u001b[43minputs\u001b[49m\u001b[43m,\u001b[49m\u001b[43m \u001b[49m\u001b[38;5;241;43m*\u001b[39;49m\u001b[38;5;241;43m*\u001b[39;49m\u001b[43mkwargs\u001b[49m\u001b[43m)\u001b[49m\n\u001b[1;32m    271\u001b[0m     \u001b[38;5;28;01mif\u001b[39;00m \u001b[38;5;28misinstance\u001b[39m(inputs, \u001b[38;5;28mlist\u001b[39m) \u001b[38;5;129;01mand\u001b[39;00m \u001b[38;5;28mlen\u001b[39m(inputs) \u001b[38;5;241m==\u001b[39m \u001b[38;5;241m1\u001b[39m:\n\u001b[1;32m    272\u001b[0m         \u001b[38;5;28;01mreturn\u001b[39;00m outputs[\u001b[38;5;241m0\u001b[39m]\n",
      "File \u001b[0;32m~/anaconda3/envs/py310/lib/python3.10/site-packages/transformers/pipelines/base.py:1362\u001b[0m, in \u001b[0;36mPipeline.__call__\u001b[0;34m(self, inputs, num_workers, batch_size, *args, **kwargs)\u001b[0m\n\u001b[1;32m   1354\u001b[0m     \u001b[38;5;28;01mreturn\u001b[39;00m \u001b[38;5;28mnext\u001b[39m(\n\u001b[1;32m   1355\u001b[0m         \u001b[38;5;28miter\u001b[39m(\n\u001b[1;32m   1356\u001b[0m             \u001b[38;5;28mself\u001b[39m\u001b[38;5;241m.\u001b[39mget_iterator(\n\u001b[0;32m   (...)\u001b[0m\n\u001b[1;32m   1359\u001b[0m         )\n\u001b[1;32m   1360\u001b[0m     )\n\u001b[1;32m   1361\u001b[0m \u001b[38;5;28;01melse\u001b[39;00m:\n\u001b[0;32m-> 1362\u001b[0m     \u001b[38;5;28;01mreturn\u001b[39;00m \u001b[38;5;28;43mself\u001b[39;49m\u001b[38;5;241;43m.\u001b[39;49m\u001b[43mrun_single\u001b[49m\u001b[43m(\u001b[49m\u001b[43minputs\u001b[49m\u001b[43m,\u001b[49m\u001b[43m \u001b[49m\u001b[43mpreprocess_params\u001b[49m\u001b[43m,\u001b[49m\u001b[43m \u001b[49m\u001b[43mforward_params\u001b[49m\u001b[43m,\u001b[49m\u001b[43m \u001b[49m\u001b[43mpostprocess_params\u001b[49m\u001b[43m)\u001b[49m\n",
      "File \u001b[0;32m~/anaconda3/envs/py310/lib/python3.10/site-packages/transformers/pipelines/base.py:1370\u001b[0m, in \u001b[0;36mPipeline.run_single\u001b[0;34m(self, inputs, preprocess_params, forward_params, postprocess_params)\u001b[0m\n\u001b[1;32m   1368\u001b[0m model_inputs \u001b[38;5;241m=\u001b[39m \u001b[38;5;28mself\u001b[39m\u001b[38;5;241m.\u001b[39mpreprocess(inputs, \u001b[38;5;241m*\u001b[39m\u001b[38;5;241m*\u001b[39mpreprocess_params)\n\u001b[1;32m   1369\u001b[0m model_outputs \u001b[38;5;241m=\u001b[39m \u001b[38;5;28mself\u001b[39m\u001b[38;5;241m.\u001b[39mforward(model_inputs, \u001b[38;5;241m*\u001b[39m\u001b[38;5;241m*\u001b[39mforward_params)\n\u001b[0;32m-> 1370\u001b[0m outputs \u001b[38;5;241m=\u001b[39m \u001b[38;5;28;43mself\u001b[39;49m\u001b[38;5;241;43m.\u001b[39;49m\u001b[43mpostprocess\u001b[49m\u001b[43m(\u001b[49m\u001b[43mmodel_outputs\u001b[49m\u001b[43m,\u001b[49m\u001b[43m \u001b[49m\u001b[38;5;241;43m*\u001b[39;49m\u001b[38;5;241;43m*\u001b[39;49m\u001b[43mpostprocess_params\u001b[49m\u001b[43m)\u001b[49m\n\u001b[1;32m   1371\u001b[0m \u001b[38;5;28;01mreturn\u001b[39;00m outputs\n",
      "File \u001b[0;32m~/anaconda3/envs/py310/lib/python3.10/site-packages/transformers/pipelines/fill_mask.py:168\u001b[0m, in \u001b[0;36mFillMaskPipeline.postprocess\u001b[0;34m(self, model_outputs, top_k, target_ids)\u001b[0m\n\u001b[1;32m    165\u001b[0m row \u001b[38;5;241m=\u001b[39m []\n\u001b[1;32m    166\u001b[0m \u001b[38;5;28;01mfor\u001b[39;00m v, p \u001b[38;5;129;01min\u001b[39;00m \u001b[38;5;28mzip\u001b[39m(_values, _predictions):\n\u001b[1;32m    167\u001b[0m     \u001b[38;5;66;03m# Copy is important since we're going to modify this array in place\u001b[39;00m\n\u001b[0;32m--> 168\u001b[0m     tokens \u001b[38;5;241m=\u001b[39m \u001b[43minput_ids\u001b[49m\u001b[38;5;241;43m.\u001b[39;49m\u001b[43mnumpy\u001b[49m\u001b[43m(\u001b[49m\u001b[43m)\u001b[49m\u001b[38;5;241m.\u001b[39mcopy()\n\u001b[1;32m    169\u001b[0m     \u001b[38;5;28;01mif\u001b[39;00m target_ids \u001b[38;5;129;01mis\u001b[39;00m \u001b[38;5;129;01mnot\u001b[39;00m \u001b[38;5;28;01mNone\u001b[39;00m:\n\u001b[1;32m    170\u001b[0m         p \u001b[38;5;241m=\u001b[39m target_ids[p]\u001b[38;5;241m.\u001b[39mtolist()\n",
      "\u001b[0;31mRuntimeError\u001b[0m: Numpy is not available"
     ]
    }
   ],
   "source": [
    "pred = fill_mask(\"RKGQIEVARNRERGLESEETEDEVPLTEGQTAEGQTETGTEEAPQTETGTEEAPIEHE is <mask>.\")\n",
    "res = [list(pred[0])] + [list(i.values()) for i in pred]\n",
    "for i in res:\n",
    "    print(f\"{i[0]:20}\\t{i[1]:5}\\t{i[2]:10}\\t{i[3]}\")"
   ]
  },
  {
   "cell_type": "code",
   "execution_count": null,
   "metadata": {},
   "outputs": [],
   "source": []
  },
  {
   "cell_type": "code",
   "execution_count": null,
   "metadata": {},
   "outputs": [],
   "source": []
  },
  {
   "cell_type": "code",
   "execution_count": null,
   "metadata": {},
   "outputs": [],
   "source": []
  },
  {
   "cell_type": "code",
   "execution_count": null,
   "metadata": {},
   "outputs": [],
   "source": []
  },
  {
   "cell_type": "code",
   "execution_count": 383,
   "metadata": {},
   "outputs": [
    {
     "data": {
      "image/png": "[encoded data removed]",
      "text/plain": [
       "<Figure size 900x400 with 2 Axes>"
      ]
     },
     "metadata": {},
     "output_type": "display_data"
    },
    {
     "data": {
      "text/html": [
       "<div>\n",
       "<style scoped>\n",
       "    .dataframe tbody tr th:only-of-type {\n",
       "        vertical-align: middle;\n",
       "    }\n",
       "\n",
       "    .dataframe tbody tr th {\n",
       "        vertical-align: top;\n",
       "    }\n",
       "\n",
       "    .dataframe thead th {\n",
       "        text-align: right;\n",
       "    }\n",
       "</style>\n",
       "<table border=\"1\" class=\"dataframe\">\n",
       "  <thead>\n",
       "    <tr style=\"text-align: right;\">\n",
       "      <th></th>\n",
       "      <th>temperature</th>\n",
       "      <th>start</th>\n",
       "      <th>end</th>\n",
       "      <th>seq</th>\n",
       "    </tr>\n",
       "  </thead>\n",
       "  <tbody>\n",
       "    <tr>\n",
       "      <th>0</th>\n",
       "      <td>4</td>\n",
       "      <td>2</td>\n",
       "      <td>20</td>\n",
       "      <td>TMLKEIKKADLSAAFYPS</td>\n",
       "    </tr>\n",
       "    <tr>\n",
       "      <th>1</th>\n",
       "      <td>55</td>\n",
       "      <td>5</td>\n",
       "      <td>21</td>\n",
       "      <td>KEIKKADLSAAFYPSG</td>\n",
       "    </tr>\n",
       "    <tr>\n",
       "      <th>2</th>\n",
       "      <td>4</td>\n",
       "      <td>6</td>\n",
       "      <td>49</td>\n",
       "      <td>EIKKADLSAAFYPSGELAWILNQVNLELIVAHGDIEIPLSRAE</td>\n",
       "    </tr>\n",
       "    <tr>\n",
       "      <th>3</th>\n",
       "      <td>60</td>\n",
       "      <td>54</td>\n",
       "      <td>70</td>\n",
       "      <td>GDKIEIYPLLSRDAEV</td>\n",
       "    </tr>\n",
       "    <tr>\n",
       "      <th>4</th>\n",
       "      <td>4</td>\n",
       "      <td>55</td>\n",
       "      <td>83</td>\n",
       "      <td>DKIEIYPLLSRDAEVGFGVQHWYLVLQD</td>\n",
       "    </tr>\n",
       "    <tr>\n",
       "      <th>5</th>\n",
       "      <td>45</td>\n",
       "      <td>103</td>\n",
       "      <td>119</td>\n",
       "      <td>TVDGDLEFDLVYLQDL</td>\n",
       "    </tr>\n",
       "    <tr>\n",
       "      <th>6</th>\n",
       "      <td>4</td>\n",
       "      <td>104</td>\n",
       "      <td>146</td>\n",
       "      <td>VDGDLEFDLVYLQDLGLAQAAVRTNEMYHGAGFTVARQEPAI</td>\n",
       "    </tr>\n",
       "    <tr>\n",
       "      <th>7</th>\n",
       "      <td>60</td>\n",
       "      <td>153</td>\n",
       "      <td>169</td>\n",
       "      <td>RQNQPQNERFPAVQIG</td>\n",
       "    </tr>\n",
       "    <tr>\n",
       "      <th>8</th>\n",
       "      <td>4</td>\n",
       "      <td>154</td>\n",
       "      <td>188</td>\n",
       "      <td>QNQPQNERFPAVQIGALTIVGDITYLTENLKESL</td>\n",
       "    </tr>\n",
       "    <tr>\n",
       "      <th>9</th>\n",
       "      <td>55</td>\n",
       "      <td>190</td>\n",
       "      <td>206</td>\n",
       "      <td>LTSELANLKEKSLPSR</td>\n",
       "    </tr>\n",
       "    <tr>\n",
       "      <th>10</th>\n",
       "      <td>4</td>\n",
       "      <td>193</td>\n",
       "      <td>229</td>\n",
       "      <td>ELANLKEKSLPSRVYQQILQELNFAQSAFEAKNEPK</td>\n",
       "    </tr>\n",
       "    <tr>\n",
       "      <th>11</th>\n",
       "      <td>60</td>\n",
       "      <td>251</td>\n",
       "      <td>267</td>\n",
       "      <td>LKSNISEQPYQPSTKA</td>\n",
       "    </tr>\n",
       "    <tr>\n",
       "      <th>12</th>\n",
       "      <td>4</td>\n",
       "      <td>254</td>\n",
       "      <td>275</td>\n",
       "      <td>NISEQPYQPSTKAILNHSPIQ</td>\n",
       "    </tr>\n",
       "    <tr>\n",
       "      <th>13</th>\n",
       "      <td>60</td>\n",
       "      <td>286</td>\n",
       "      <td>302</td>\n",
       "      <td>LQENFPDRIQEEQQNG</td>\n",
       "    </tr>\n",
       "    <tr>\n",
       "      <th>14</th>\n",
       "      <td>4</td>\n",
       "      <td>287</td>\n",
       "      <td>305</td>\n",
       "      <td>QENFPDRIQEEQQNGALF</td>\n",
       "    </tr>\n",
       "    <tr>\n",
       "      <th>15</th>\n",
       "      <td>55</td>\n",
       "      <td>298</td>\n",
       "      <td>314</td>\n",
       "      <td>QQNGALLSFFTPNYAH</td>\n",
       "    </tr>\n",
       "    <tr>\n",
       "      <th>16</th>\n",
       "      <td>45</td>\n",
       "      <td>299</td>\n",
       "      <td>315</td>\n",
       "      <td>QNGALLSFFTPNYAHV</td>\n",
       "    </tr>\n",
       "    <tr>\n",
       "      <th>17</th>\n",
       "      <td>4</td>\n",
       "      <td>301</td>\n",
       "      <td>364</td>\n",
       "      <td>GALLSFFTPNYAHVVMEALPHGILLDKDLNATLLKNAYLWLLDKSE...</td>\n",
       "    </tr>\n",
       "    <tr>\n",
       "      <th>18</th>\n",
       "      <td>55</td>\n",
       "      <td>512</td>\n",
       "      <td>528</td>\n",
       "      <td>YVGTAGLDVFVFEPSD</td>\n",
       "    </tr>\n",
       "    <tr>\n",
       "      <th>19</th>\n",
       "      <td>4</td>\n",
       "      <td>527</td>\n",
       "      <td>558</td>\n",
       "      <td>DKATFHVQAKLSDEFSPTLEANVIAYLFLQL</td>\n",
       "    </tr>\n",
       "  </tbody>\n",
       "</table>\n",
       "</div>"
      ],
      "text/plain": [
       "    temperature  start  end                                                seq\n",
       "0             4      2   20                                 TMLKEIKKADLSAAFYPS\n",
       "1            55      5   21                                   KEIKKADLSAAFYPSG\n",
       "2             4      6   49        EIKKADLSAAFYPSGELAWILNQVNLELIVAHGDIEIPLSRAE\n",
       "3            60     54   70                                   GDKIEIYPLLSRDAEV\n",
       "4             4     55   83                       DKIEIYPLLSRDAEVGFGVQHWYLVLQD\n",
       "5            45    103  119                                   TVDGDLEFDLVYLQDL\n",
       "6             4    104  146         VDGDLEFDLVYLQDLGLAQAAVRTNEMYHGAGFTVARQEPAI\n",
       "7            60    153  169                                   RQNQPQNERFPAVQIG\n",
       "8             4    154  188                 QNQPQNERFPAVQIGALTIVGDITYLTENLKESL\n",
       "9            55    190  206                                   LTSELANLKEKSLPSR\n",
       "10            4    193  229               ELANLKEKSLPSRVYQQILQELNFAQSAFEAKNEPK\n",
       "11           60    251  267                                   LKSNISEQPYQPSTKA\n",
       "12            4    254  275                              NISEQPYQPSTKAILNHSPIQ\n",
       "13           60    286  302                                   LQENFPDRIQEEQQNG\n",
       "14            4    287  305                                 QENFPDRIQEEQQNGALF\n",
       "15           55    298  314                                   QQNGALLSFFTPNYAH\n",
       "16           45    299  315                                   QNGALLSFFTPNYAHV\n",
       "17            4    301  364  GALLSFFTPNYAHVVMEALPHGILLDKDLNATLLKNAYLWLLDKSE...\n",
       "18           55    512  528                                   YVGTAGLDVFVFEPSD\n",
       "19            4    527  558                    DKATFHVQAKLSDEFSPTLEANVIAYLFLQL"
      ]
     },
     "execution_count": 383,
     "metadata": {},
     "output_type": "execute_result"
    }
   ],
   "source": [
    "aa = 'MTMLKEIKKADLSAAFYPSGELAWLKLKDIMLNQVIQNPLENRLSQIYVRAHVGDKIEIYPLLSRDAEVGFNENGVEYRGVVGPFRYSVQMHFHTRGWFYDV'+\\\n",
    "    'TVDGDLEFDLVYLQDLGLAEQAAVRTNEAYMSQYIDYHVTEGATGFTVQARQNQPQNERFPAVQIGALTKIVGYATDGFDIYGTNYKLTSELANLKEKSLPSRV' + \\\n",
    "    'YQYEFAQISLQTELFTNHGETIFYGYATENQPKASGAPFENLAELKSNISEQPYQPSTKAILNKHIGTPITGETISDSWLQENFPDRIQEEQQNGALLSFFTPN' + \\\n",
    "    'YAHVVMREKEAELERPHGSILLDKVDVLNPEATLSATTYMYGAFLSQLVAGNTNMNKWNSHARNPLNILQTSGLRIYIELDSELRLLGVPSVWETSTNYSTWYY' + \\\n",
    "    'QWNGDLITVQTTLTADSKEAFVTVHSEKGHSYKLVLTNQVTMGTNEYDTTVKKEIKDGIVTYFPAEDSPILETYPALQFRVDGTYNELTDERYFAKDYVGTAGL' + \\\n",
    "    'DVFVFEPSDKATFHVQAKLSDEFSKPTEDLEANNKVIRASYDELTAQFHLNHQSTTAEKLNL'\n",
    "aa_temp = 45\n",
    "\n",
    "client.kmer_predict(aa)\n",
    "client.get_temperature()\n",
    "client.draw_temp(aa_temp)\n",
    "client.get_region()"
   ]
  },
  {
   "cell_type": "code",
   "execution_count": 384,
   "metadata": {},
   "outputs": [
    {
     "data": {
      "image/png": "[encoded data removed]",
      "text/plain": [
       "<Figure size 900x400 with 2 Axes>"
      ]
     },
     "metadata": {},
     "output_type": "display_data"
    },
    {
     "data": {
      "text/html": [
       "<div>\n",
       "<style scoped>\n",
       "    .dataframe tbody tr th:only-of-type {\n",
       "        vertical-align: middle;\n",
       "    }\n",
       "\n",
       "    .dataframe tbody tr th {\n",
       "        vertical-align: top;\n",
       "    }\n",
       "\n",
       "    .dataframe thead th {\n",
       "        text-align: right;\n",
       "    }\n",
       "</style>\n",
       "<table border=\"1\" class=\"dataframe\">\n",
       "  <thead>\n",
       "    <tr style=\"text-align: right;\">\n",
       "      <th></th>\n",
       "      <th>temperature</th>\n",
       "      <th>start</th>\n",
       "      <th>end</th>\n",
       "      <th>seq</th>\n",
       "    </tr>\n",
       "  </thead>\n",
       "  <tbody>\n",
       "    <tr>\n",
       "      <th>0</th>\n",
       "      <td>4</td>\n",
       "      <td>1</td>\n",
       "      <td>17</td>\n",
       "      <td>MKKLAKMISIATLGAC</td>\n",
       "    </tr>\n",
       "    <tr>\n",
       "      <th>1</th>\n",
       "      <td>60</td>\n",
       "      <td>2</td>\n",
       "      <td>18</td>\n",
       "      <td>KKLAKMISIATLGACA</td>\n",
       "    </tr>\n",
       "    <tr>\n",
       "      <th>2</th>\n",
       "      <td>4</td>\n",
       "      <td>3</td>\n",
       "      <td>22</td>\n",
       "      <td>KLAKMISIATLGACAFSAH</td>\n",
       "    </tr>\n",
       "    <tr>\n",
       "      <th>3</th>\n",
       "      <td>60</td>\n",
       "      <td>7</td>\n",
       "      <td>23</td>\n",
       "      <td>MISIATLGACAFSAHA</td>\n",
       "    </tr>\n",
       "    <tr>\n",
       "      <th>4</th>\n",
       "      <td>4</td>\n",
       "      <td>10</td>\n",
       "      <td>35</td>\n",
       "      <td>IATLGACAFSAHALDGKLPLDDYMS</td>\n",
       "    </tr>\n",
       "    <tr>\n",
       "      <th>5</th>\n",
       "      <td>60</td>\n",
       "      <td>41</td>\n",
       "      <td>57</td>\n",
       "      <td>VDSVNDYSSAMSTTPA</td>\n",
       "    </tr>\n",
       "    <tr>\n",
       "      <th>6</th>\n",
       "      <td>4</td>\n",
       "      <td>43</td>\n",
       "      <td>69</td>\n",
       "      <td>SVNDYSSAMSTTPAGVYVGINLLSNA</td>\n",
       "    </tr>\n",
       "    <tr>\n",
       "      <th>7</th>\n",
       "      <td>55</td>\n",
       "      <td>61</td>\n",
       "      <td>77</td>\n",
       "      <td>YVGIVNLDGLASNADA</td>\n",
       "    </tr>\n",
       "    <tr>\n",
       "      <th>8</th>\n",
       "      <td>4</td>\n",
       "      <td>62</td>\n",
       "      <td>78</td>\n",
       "      <td>VGIVNLDGLASNADAG</td>\n",
       "    </tr>\n",
       "    <tr>\n",
       "      <th>9</th>\n",
       "      <td>60</td>\n",
       "      <td>63</td>\n",
       "      <td>79</td>\n",
       "      <td>GIVNLDGLASNADAGA</td>\n",
       "    </tr>\n",
       "    <tr>\n",
       "      <th>10</th>\n",
       "      <td>4</td>\n",
       "      <td>64</td>\n",
       "      <td>103</td>\n",
       "      <td>IVNLDGLASNADAGAGRNNVNLYPTAIVSNGIQVGITIT</td>\n",
       "    </tr>\n",
       "    <tr>\n",
       "      <th>11</th>\n",
       "      <td>45</td>\n",
       "      <td>109</td>\n",
       "      <td>125</td>\n",
       "      <td>AQGQYNANIDTLIQTL</td>\n",
       "    </tr>\n",
       "    <tr>\n",
       "      <th>12</th>\n",
       "      <td>4</td>\n",
       "      <td>110</td>\n",
       "      <td>132</td>\n",
       "      <td>QGQYNANIDTLIQTLGELDRVY</td>\n",
       "    </tr>\n",
       "    <tr>\n",
       "      <th>13</th>\n",
       "      <td>45</td>\n",
       "      <td>118</td>\n",
       "      <td>134</td>\n",
       "      <td>DTLIQTLGELDRPVYL</td>\n",
       "    </tr>\n",
       "    <tr>\n",
       "      <th>14</th>\n",
       "      <td>4</td>\n",
       "      <td>119</td>\n",
       "      <td>147</td>\n",
       "      <td>TLIQTLGELDRPVYLRDLQFRVYRRELY</td>\n",
       "    </tr>\n",
       "    <tr>\n",
       "      <th>15</th>\n",
       "      <td>60</td>\n",
       "      <td>153</td>\n",
       "      <td>169</td>\n",
       "      <td>QSFRNVYQRIRELGYG</td>\n",
       "    </tr>\n",
       "    <tr>\n",
       "      <th>16</th>\n",
       "      <td>4</td>\n",
       "      <td>156</td>\n",
       "      <td>216</td>\n",
       "      <td>RNVYQRIRELGYGDNIMIWADVWGLSAPQDCNDVEAQWRNKLFINE...</td>\n",
       "    </tr>\n",
       "    <tr>\n",
       "      <th>17</th>\n",
       "      <td>60</td>\n",
       "      <td>237</td>\n",
       "      <td>253</td>\n",
       "      <td>PQRYQLADRTYSSDPA</td>\n",
       "    </tr>\n",
       "    <tr>\n",
       "      <th>18</th>\n",
       "      <td>4</td>\n",
       "      <td>247</td>\n",
       "      <td>268</td>\n",
       "      <td>YSSDPAKGTNRQSKTEQIWSE</td>\n",
       "    </tr>\n",
       "    <tr>\n",
       "      <th>19</th>\n",
       "      <td>55</td>\n",
       "      <td>254</td>\n",
       "      <td>270</td>\n",
       "      <td>GTNRQSKTEQQIWSEW</td>\n",
       "    </tr>\n",
       "    <tr>\n",
       "      <th>20</th>\n",
       "      <td>4</td>\n",
       "      <td>256</td>\n",
       "      <td>307</td>\n",
       "      <td>NRQSKTEQQIWSEWFAPQYWDWWAEGGDRVVLYQWDNFIHLAKLYA...</td>\n",
       "    </tr>\n",
       "    <tr>\n",
       "      <th>21</th>\n",
       "      <td>60</td>\n",
       "      <td>343</td>\n",
       "      <td>359</td>\n",
       "      <td>KLGYVADGGDNGGDNG</td>\n",
       "    </tr>\n",
       "    <tr>\n",
       "      <th>22</th>\n",
       "      <td>4</td>\n",
       "      <td>344</td>\n",
       "      <td>361</td>\n",
       "      <td>LGYVADGGDNGGDNGGD</td>\n",
       "    </tr>\n",
       "    <tr>\n",
       "      <th>23</th>\n",
       "      <td>55</td>\n",
       "      <td>346</td>\n",
       "      <td>362</td>\n",
       "      <td>YVADGGDNGGDNGGDN</td>\n",
       "    </tr>\n",
       "    <tr>\n",
       "      <th>24</th>\n",
       "      <td>4</td>\n",
       "      <td>347</td>\n",
       "      <td>365</td>\n",
       "      <td>VADGGDNGGDNGGDNGGD</td>\n",
       "    </tr>\n",
       "    <tr>\n",
       "      <th>25</th>\n",
       "      <td>55</td>\n",
       "      <td>350</td>\n",
       "      <td>366</td>\n",
       "      <td>GGDNGGDNGGDNGGDN</td>\n",
       "    </tr>\n",
       "    <tr>\n",
       "      <th>26</th>\n",
       "      <td>4</td>\n",
       "      <td>351</td>\n",
       "      <td>369</td>\n",
       "      <td>GDNGGDNGGDNGGDNGGD</td>\n",
       "    </tr>\n",
       "    <tr>\n",
       "      <th>27</th>\n",
       "      <td>55</td>\n",
       "      <td>354</td>\n",
       "      <td>370</td>\n",
       "      <td>GGDNGGDNGGDNGGDN</td>\n",
       "    </tr>\n",
       "    <tr>\n",
       "      <th>28</th>\n",
       "      <td>4</td>\n",
       "      <td>355</td>\n",
       "      <td>373</td>\n",
       "      <td>GDNGGDNGGDNGGDNGGD</td>\n",
       "    </tr>\n",
       "    <tr>\n",
       "      <th>29</th>\n",
       "      <td>55</td>\n",
       "      <td>358</td>\n",
       "      <td>374</td>\n",
       "      <td>GGDNGGDNGGDNGGDN</td>\n",
       "    </tr>\n",
       "    <tr>\n",
       "      <th>30</th>\n",
       "      <td>4</td>\n",
       "      <td>359</td>\n",
       "      <td>379</td>\n",
       "      <td>GDNGGDNGGDNGGDNGGTEP</td>\n",
       "    </tr>\n",
       "    <tr>\n",
       "      <th>31</th>\n",
       "      <td>55</td>\n",
       "      <td>365</td>\n",
       "      <td>381</td>\n",
       "      <td>NGGDNGGDNGGTEPPE</td>\n",
       "    </tr>\n",
       "    <tr>\n",
       "      <th>32</th>\n",
       "      <td>4</td>\n",
       "      <td>366</td>\n",
       "      <td>402</td>\n",
       "      <td>GGDNGGDNGGTEPPENQDFNNYSDQEIEVHVDKGWS</td>\n",
       "    </tr>\n",
       "    <tr>\n",
       "      <th>33</th>\n",
       "      <td>60</td>\n",
       "      <td>392</td>\n",
       "      <td>408</td>\n",
       "      <td>SDQEIEVYHVDKGWSA</td>\n",
       "    </tr>\n",
       "    <tr>\n",
       "      <th>34</th>\n",
       "      <td>4</td>\n",
       "      <td>393</td>\n",
       "      <td>443</td>\n",
       "      <td>DQEIEVYHVDKGWSAGWNYVLNYCLGGFRTFNAVLGQDYKLTFKED...</td>\n",
       "    </tr>\n",
       "    <tr>\n",
       "      <th>35</th>\n",
       "      <td>60</td>\n",
       "      <td>438</td>\n",
       "      <td>454</td>\n",
       "      <td>QDYKLTFKVEDRYGQG</td>\n",
       "    </tr>\n",
       "    <tr>\n",
       "      <th>36</th>\n",
       "      <td>4</td>\n",
       "      <td>439</td>\n",
       "      <td>463</td>\n",
       "      <td>DYKLTFKVEDRYGQGQQILDRNTT</td>\n",
       "    </tr>\n",
       "  </tbody>\n",
       "</table>\n",
       "</div>"
      ],
      "text/plain": [
       "    temperature  start  end                                                seq\n",
       "0             4      1   17                                   MKKLAKMISIATLGAC\n",
       "1            60      2   18                                   KKLAKMISIATLGACA\n",
       "2             4      3   22                                KLAKMISIATLGACAFSAH\n",
       "3            60      7   23                                   MISIATLGACAFSAHA\n",
       "4             4     10   35                          IATLGACAFSAHALDGKLPLDDYMS\n",
       "5            60     41   57                                   VDSVNDYSSAMSTTPA\n",
       "6             4     43   69                         SVNDYSSAMSTTPAGVYVGINLLSNA\n",
       "7            55     61   77                                   YVGIVNLDGLASNADA\n",
       "8             4     62   78                                   VGIVNLDGLASNADAG\n",
       "9            60     63   79                                   GIVNLDGLASNADAGA\n",
       "10            4     64  103            IVNLDGLASNADAGAGRNNVNLYPTAIVSNGIQVGITIT\n",
       "11           45    109  125                                   AQGQYNANIDTLIQTL\n",
       "12            4    110  132                             QGQYNANIDTLIQTLGELDRVY\n",
       "13           45    118  134                                   DTLIQTLGELDRPVYL\n",
       "14            4    119  147                       TLIQTLGELDRPVYLRDLQFRVYRRELY\n",
       "15           60    153  169                                   QSFRNVYQRIRELGYG\n",
       "16            4    156  216  RNVYQRIRELGYGDNIMIWADVWGLSAPQDCNDVEAQWRNKLFINE...\n",
       "17           60    237  253                                   PQRYQLADRTYSSDPA\n",
       "18            4    247  268                              YSSDPAKGTNRQSKTEQIWSE\n",
       "19           55    254  270                                   GTNRQSKTEQQIWSEW\n",
       "20            4    256  307  NRQSKTEQQIWSEWFAPQYWDWWAEGGDRVVLYQWDNFIHLAKLYA...\n",
       "21           60    343  359                                   KLGYVADGGDNGGDNG\n",
       "22            4    344  361                                  LGYVADGGDNGGDNGGD\n",
       "23           55    346  362                                   YVADGGDNGGDNGGDN\n",
       "24            4    347  365                                 VADGGDNGGDNGGDNGGD\n",
       "25           55    350  366                                   GGDNGGDNGGDNGGDN\n",
       "26            4    351  369                                 GDNGGDNGGDNGGDNGGD\n",
       "27           55    354  370                                   GGDNGGDNGGDNGGDN\n",
       "28            4    355  373                                 GDNGGDNGGDNGGDNGGD\n",
       "29           55    358  374                                   GGDNGGDNGGDNGGDN\n",
       "30            4    359  379                               GDNGGDNGGDNGGDNGGTEP\n",
       "31           55    365  381                                   NGGDNGGDNGGTEPPE\n",
       "32            4    366  402               GGDNGGDNGGTEPPENQDFNNYSDQEIEVHVDKGWS\n",
       "33           60    392  408                                   SDQEIEVYHVDKGWSA\n",
       "34            4    393  443  DQEIEVYHVDKGWSAGWNYVLNYCLGGFRTFNAVLGQDYKLTFKED...\n",
       "35           60    438  454                                   QDYKLTFKVEDRYGQG\n",
       "36            4    439  463                           DYKLTFKVEDRYGQGQQILDRNTT"
      ]
     },
     "execution_count": 384,
     "metadata": {},
     "output_type": "execute_result"
    }
   ],
   "source": [
    "aa = 'MKKLAKMISIATLGACAFSAHALDGKLVPNEGVLVSVGQDVDSVNDYSSAMSTTPAGVTNYVGIVNLDGLASNADAGAGRNNVVELANLYPTSALI' + \\\n",
    "    'VGVSMNGQIQNVAQGQYNANIDTLIQTLGELDRPVYLRWAYEVDGPWNGHNTEDLKQSFRNVYQRIRELGYGDNISMIWQVASYCPTAPGQLSSWWPGDD' + \\\n",
    "    'VVDWVGLSYFAPQDCNWDRVNEAAQWARSHNKPLFINESSPQRYQLADRTYSSDPAKGTNRQSKTEQQIWSEWFAPYFQFMEDNKDILKGFTYINADWD' + \\\n",
    "    'SQWRWAAPYNEGYWGDSRVQVLPYIKQQWQDTLENPKFINHSSDLFAKLGYVADGGDNGGDNGGDNGGDNGGDNGGDNGGTEPPENCQDDFNFNYVSDQE' + \\\n",
    "    'IEVYHVDKGWSAGWNYVCLNDYCLPGNKSNGAFRKTFNAVLGQDYKLTFKVEDRYGQGQQILDRNITFTTQVCN'\n",
    "aa_temp = 60\n",
    "\n",
    "client.kmer_predict(aa)\n",
    "client.get_temperature()\n",
    "client.draw_temp(aa_temp)\n",
    "client.get_region()"
   ]
  },
  {
   "cell_type": "code",
   "execution_count": 385,
   "metadata": {},
   "outputs": [
    {
     "data": {
      "image/png": "[encoded data removed]",
      "text/plain": [
       "<Figure size 900x400 with 2 Axes>"
      ]
     },
     "metadata": {},
     "output_type": "display_data"
    },
    {
     "data": {
      "text/html": [
       "<div>\n",
       "<style scoped>\n",
       "    .dataframe tbody tr th:only-of-type {\n",
       "        vertical-align: middle;\n",
       "    }\n",
       "\n",
       "    .dataframe tbody tr th {\n",
       "        vertical-align: top;\n",
       "    }\n",
       "\n",
       "    .dataframe thead th {\n",
       "        text-align: right;\n",
       "    }\n",
       "</style>\n",
       "<table border=\"1\" class=\"dataframe\">\n",
       "  <thead>\n",
       "    <tr style=\"text-align: right;\">\n",
       "      <th></th>\n",
       "      <th>temperature</th>\n",
       "      <th>start</th>\n",
       "      <th>end</th>\n",
       "      <th>seq</th>\n",
       "    </tr>\n",
       "  </thead>\n",
       "  <tbody>\n",
       "    <tr>\n",
       "      <th>0</th>\n",
       "      <td>4</td>\n",
       "      <td>2</td>\n",
       "      <td>25</td>\n",
       "      <td>TKSIYFSLGIHNHQPVFDFVIER</td>\n",
       "    </tr>\n",
       "    <tr>\n",
       "      <th>1</th>\n",
       "      <td>60</td>\n",
       "      <td>12</td>\n",
       "      <td>28</td>\n",
       "      <td>HNHQPVGNFDFVIERA</td>\n",
       "    </tr>\n",
       "    <tr>\n",
       "      <th>2</th>\n",
       "      <td>4</td>\n",
       "      <td>13</td>\n",
       "      <td>115</td>\n",
       "      <td>NHQPVGNFDFVIERAYEMSLFPGLLLWLEKNHPEYKLIGIEVSGGF...</td>\n",
       "    </tr>\n",
       "    <tr>\n",
       "      <th>3</th>\n",
       "      <td>45</td>\n",
       "      <td>206</td>\n",
       "      <td>222</td>\n",
       "      <td>DKSKIALLFDDGEKFG</td>\n",
       "    </tr>\n",
       "    <tr>\n",
       "      <th>4</th>\n",
       "      <td>4</td>\n",
       "      <td>207</td>\n",
       "      <td>243</td>\n",
       "      <td>KSKIALLFDDGEKFGLYEINFTVLTYQKPKGRIYLR</td>\n",
       "    </tr>\n",
       "    <tr>\n",
       "      <th>5</th>\n",
       "      <td>55</td>\n",
       "      <td>272</td>\n",
       "      <td>288</td>\n",
       "      <td>TASYREMMEWVLFPEA</td>\n",
       "    </tr>\n",
       "    <tr>\n",
       "      <th>6</th>\n",
       "      <td>4</td>\n",
       "      <td>274</td>\n",
       "      <td>334</td>\n",
       "      <td>SYREMMEWVLFPEAQKLLKELKYGGWNKSKLQMEFANDAWGIFGGL...</td>\n",
       "    </tr>\n",
       "    <tr>\n",
       "      <th>7</th>\n",
       "      <td>45</td>\n",
       "      <td>394</td>\n",
       "      <td>410</td>\n",
       "      <td>ENSEIRFNIFDFDCDG</td>\n",
       "    </tr>\n",
       "    <tr>\n",
       "      <th>8</th>\n",
       "      <td>4</td>\n",
       "      <td>396</td>\n",
       "      <td>428</td>\n",
       "      <td>SEIRFNIFDFDCDGNDEVPFFLSHGSLTLAYE</td>\n",
       "    </tr>\n",
       "    <tr>\n",
       "      <th>9</th>\n",
       "      <td>45</td>\n",
       "      <td>451</td>\n",
       "      <td>467</td>\n",
       "      <td>RKEAYHSKLSYVTSEA</td>\n",
       "    </tr>\n",
       "    <tr>\n",
       "      <th>10</th>\n",
       "      <td>4</td>\n",
       "      <td>452</td>\n",
       "      <td>522</td>\n",
       "      <td>KEAYHSKLSYVTSEAQKIHERWGLNLDRVSFTEKFEVLDLKDDFYD...</td>\n",
       "    </tr>\n",
       "    <tr>\n",
       "      <th>11</th>\n",
       "      <td>45</td>\n",
       "      <td>548</td>\n",
       "      <td>564</td>\n",
       "      <td>FELCKSYILYKDKSFV</td>\n",
       "    </tr>\n",
       "    <tr>\n",
       "      <th>12</th>\n",
       "      <td>4</td>\n",
       "      <td>549</td>\n",
       "      <td>624</td>\n",
       "      <td>ELCKSYILYKDKSFVDVVYNVETLFGEINLFLNPDYLIGQYPLSSF...</td>\n",
       "    </tr>\n",
       "    <tr>\n",
       "      <th>13</th>\n",
       "      <td>60</td>\n",
       "      <td>632</td>\n",
       "      <td>648</td>\n",
       "      <td>VLDVEASLYRYPIETV</td>\n",
       "    </tr>\n",
       "    <tr>\n",
       "      <th>14</th>\n",
       "      <td>4</td>\n",
       "      <td>633</td>\n",
       "      <td>657</td>\n",
       "      <td>LDVEASLYRYPIETVSLSEGFRYQ</td>\n",
       "    </tr>\n",
       "    <tr>\n",
       "      <th>15</th>\n",
       "      <td>60</td>\n",
       "      <td>645</td>\n",
       "      <td>662</td>\n",
       "      <td>ETVSLSEEGFERVYQGA</td>\n",
       "    </tr>\n",
       "    <tr>\n",
       "      <th>16</th>\n",
       "      <td>4</td>\n",
       "      <td>648</td>\n",
       "      <td>675</td>\n",
       "      <td>SLSEEGFERVYQGSALIHFVDLVGRWV</td>\n",
       "    </tr>\n",
       "  </tbody>\n",
       "</table>\n",
       "</div>"
      ],
      "text/plain": [
       "    temperature  start  end                                                seq\n",
       "0             4      2   25                            TKSIYFSLGIHNHQPVFDFVIER\n",
       "1            60     12   28                                   HNHQPVGNFDFVIERA\n",
       "2             4     13  115  NHQPVGNFDFVIERAYEMSLFPGLLLWLEKNHPEYKLIGIEVSGGF...\n",
       "3            45    206  222                                   DKSKIALLFDDGEKFG\n",
       "4             4    207  243               KSKIALLFDDGEKFGLYEINFTVLTYQKPKGRIYLR\n",
       "5            55    272  288                                   TASYREMMEWVLFPEA\n",
       "6             4    274  334  SYREMMEWVLFPEAQKLLKELKYGGWNKSKLQMEFANDAWGIFGGL...\n",
       "7            45    394  410                                   ENSEIRFNIFDFDCDG\n",
       "8             4    396  428                   SEIRFNIFDFDCDGNDEVPFFLSHGSLTLAYE\n",
       "9            45    451  467                                   RKEAYHSKLSYVTSEA\n",
       "10            4    452  522  KEAYHSKLSYVTSEAQKIHERWGLNLDRVSFTEKFEVLDLKDDFYD...\n",
       "11           45    548  564                                   FELCKSYILYKDKSFV\n",
       "12            4    549  624  ELCKSYILYKDKSFVDVVYNVETLFGEINLFLNPDYLIGQYPLSSF...\n",
       "13           60    632  648                                   VLDVEASLYRYPIETV\n",
       "14            4    633  657                           LDVEASLYRYPIETVSLSEGFRYQ\n",
       "15           60    645  662                                  ETVSLSEEGFERVYQGA\n",
       "16            4    648  675                        SLSEEGFERVYQGSALIHFVDLVGRWV"
      ]
     },
     "execution_count": 385,
     "metadata": {},
     "output_type": "execute_result"
    }
   ],
   "source": [
    "aa= 'MTKSIYFSLGIHNHQPVGNFDFVIERAYEMSYKPLINFFFKHPDFPINVHFSGFLLLWLEKNHPEYFEKLKIMAERGQIEFVSGGFYEPILPIIPDKDKVQQ' + \\\n",
    "    'IKKLNKYIYDKFGQTPKGMWLAERVWEPHLVKYIAEAGIEYVVVDDAHFFSVGLKEEDLFGYYLMEEQGYKLAVFPISMKLRYLIPFADPEETITYLDKFASE' + \\\n",
    "    'DKSKIALLFDDGEKFGLWPDTYRTVYEEGWLETFVSKIKENFLLVTPVNLYTYMQRVKPKGRIYLPTASYREMMEWVLFPEAQKELEELVEKLKTENLWDKF' + \\\n",
    "    'SPYVKGGFWRNFLAKYDESNHMQKKMLYVWKKVQDSPNEEVKEKAMEEVFQGQANDAYWHGIFGGLYLPHLRTAIYEHLIKAENYLENSEIRFNIFDFDCDG' + \\\n",
    "    'NDEIIVESPFFNLYLSPNHGGSVLEWDFKTKAFNLTNVLTRRKEAYHSKLSYVTSEAQGKSIHERWTAKEEGLENILFYDNHRRVSFTEKIFESEPVLEDLW' + \\\n",
    "    'KDSSRLEVDSFYENYDYEINKDENKIRVLFSGVFRGFELCKSYILYKDKSFVDVVYEIKNVSETPISLNFGWEINLNFLAPNHPDYYFLIGDQKYPLSSFGI' + \\\n",
    "    'EKVNNWKIFSGIGIELECVLDVEASLYRYPIETVSLSEEGFERVYQGSALIHFYKVDLPVGSTWRTTIRFWVK'\n",
    "aa_temp = 80\n",
    "\n",
    "client.kmer_predict(aa)\n",
    "client.get_temperature()\n",
    "client.draw_temp(aa_temp)\n",
    "client.get_region()"
   ]
  },
  {
   "cell_type": "code",
   "execution_count": 386,
   "metadata": {},
   "outputs": [
    {
     "data": {
      "image/png": "[encoded data removed]",
      "text/plain": [
       "<Figure size 900x400 with 2 Axes>"
      ]
     },
     "metadata": {},
     "output_type": "display_data"
    },
    {
     "data": {
      "text/html": [
       "<div>\n",
       "<style scoped>\n",
       "    .dataframe tbody tr th:only-of-type {\n",
       "        vertical-align: middle;\n",
       "    }\n",
       "\n",
       "    .dataframe tbody tr th {\n",
       "        vertical-align: top;\n",
       "    }\n",
       "\n",
       "    .dataframe thead th {\n",
       "        text-align: right;\n",
       "    }\n",
       "</style>\n",
       "<table border=\"1\" class=\"dataframe\">\n",
       "  <thead>\n",
       "    <tr style=\"text-align: right;\">\n",
       "      <th></th>\n",
       "      <th>temperature</th>\n",
       "      <th>start</th>\n",
       "      <th>end</th>\n",
       "      <th>seq</th>\n",
       "    </tr>\n",
       "  </thead>\n",
       "  <tbody>\n",
       "    <tr>\n",
       "      <th>0</th>\n",
       "      <td>4</td>\n",
       "      <td>3</td>\n",
       "      <td>21</td>\n",
       "      <td>DWELMKKIIESPGVSGYH</td>\n",
       "    </tr>\n",
       "    <tr>\n",
       "      <th>1</th>\n",
       "      <td>45</td>\n",
       "      <td>7</td>\n",
       "      <td>23</td>\n",
       "      <td>MKKIIESPGVSGYEHL</td>\n",
       "    </tr>\n",
       "    <tr>\n",
       "      <th>2</th>\n",
       "      <td>4</td>\n",
       "      <td>8</td>\n",
       "      <td>26</td>\n",
       "      <td>KKIIESPGVSGYEHLGIR</td>\n",
       "    </tr>\n",
       "    <tr>\n",
       "      <th>3</th>\n",
       "      <td>60</td>\n",
       "      <td>12</td>\n",
       "      <td>28</td>\n",
       "      <td>ESPGVSGYEHLGIRDL</td>\n",
       "    </tr>\n",
       "    <tr>\n",
       "      <th>4</th>\n",
       "      <td>4</td>\n",
       "      <td>16</td>\n",
       "      <td>32</td>\n",
       "      <td>VSGYEHLGIRDLVVDI</td>\n",
       "    </tr>\n",
       "    <tr>\n",
       "      <th>5</th>\n",
       "      <td>45</td>\n",
       "      <td>17</td>\n",
       "      <td>33</td>\n",
       "      <td>SGYEHLGIRDLVVDIL</td>\n",
       "    </tr>\n",
       "    <tr>\n",
       "      <th>6</th>\n",
       "      <td>4</td>\n",
       "      <td>18</td>\n",
       "      <td>66</td>\n",
       "      <td>GYEHLGIRDLVVDILKDKAHKGSAPVVAHMIGLMVNHIDDGYLRVVPI</td>\n",
       "    </tr>\n",
       "    <tr>\n",
       "      <th>7</th>\n",
       "      <td>60</td>\n",
       "      <td>71</td>\n",
       "      <td>87</td>\n",
       "      <td>VNHIDKDGYLRVVPIG</td>\n",
       "    </tr>\n",
       "    <tr>\n",
       "      <th>8</th>\n",
       "      <td>4</td>\n",
       "      <td>72</td>\n",
       "      <td>99</td>\n",
       "      <td>NHIDKDGYLRVVPIGGVLPLKRFTKGR</td>\n",
       "    </tr>\n",
       "    <tr>\n",
       "      <th>9</th>\n",
       "      <td>45</td>\n",
       "      <td>93</td>\n",
       "      <td>109</td>\n",
       "      <td>LIAQKIRFFTEKGERY</td>\n",
       "    </tr>\n",
       "    <tr>\n",
       "      <th>10</th>\n",
       "      <td>4</td>\n",
       "      <td>94</td>\n",
       "      <td>143</td>\n",
       "      <td>IAQKIRFFTEKGERYGVVGLPPLREDQGGKIDWDSIIDEGFITIPFRLS</td>\n",
       "    </tr>\n",
       "    <tr>\n",
       "      <th>11</th>\n",
       "      <td>60</td>\n",
       "      <td>154</td>\n",
       "      <td>170</td>\n",
       "      <td>GTIGEFAPNFTRLSEH</td>\n",
       "    </tr>\n",
       "    <tr>\n",
       "      <th>12</th>\n",
       "      <td>4</td>\n",
       "      <td>155</td>\n",
       "      <td>171</td>\n",
       "      <td>TIGEFAPNFTRLSEHR</td>\n",
       "    </tr>\n",
       "    <tr>\n",
       "      <th>13</th>\n",
       "      <td>60</td>\n",
       "      <td>157</td>\n",
       "      <td>173</td>\n",
       "      <td>GEFAPNFTRLSEHRFA</td>\n",
       "    </tr>\n",
       "    <tr>\n",
       "      <th>14</th>\n",
       "      <td>4</td>\n",
       "      <td>158</td>\n",
       "      <td>224</td>\n",
       "      <td>EFAPNFTRLSEHRFATYLDRCLYAMIEAQLGEHEAIYIVASVQAPM...</td>\n",
       "    </tr>\n",
       "    <tr>\n",
       "      <th>15</th>\n",
       "      <td>60</td>\n",
       "      <td>273</td>\n",
       "      <td>289</td>\n",
       "      <td>KYEIPLQVEPSPRPTG</td>\n",
       "    </tr>\n",
       "    <tr>\n",
       "      <th>16</th>\n",
       "      <td>4</td>\n",
       "      <td>281</td>\n",
       "      <td>304</td>\n",
       "      <td>EPSPRPTGTDANVMQINREGVAT</td>\n",
       "    </tr>\n",
       "    <tr>\n",
       "      <th>17</th>\n",
       "      <td>60</td>\n",
       "      <td>289</td>\n",
       "      <td>305</td>\n",
       "      <td>TDANVMQINREGVATA</td>\n",
       "    </tr>\n",
       "    <tr>\n",
       "      <th>18</th>\n",
       "      <td>4</td>\n",
       "      <td>290</td>\n",
       "      <td>310</td>\n",
       "      <td>DANVMQINREGVATAVLPIR</td>\n",
       "    </tr>\n",
       "    <tr>\n",
       "      <th>19</th>\n",
       "      <td>45</td>\n",
       "      <td>297</td>\n",
       "      <td>313</td>\n",
       "      <td>NREGVATAVLSIPIRY</td>\n",
       "    </tr>\n",
       "    <tr>\n",
       "      <th>20</th>\n",
       "      <td>55</td>\n",
       "      <td>305</td>\n",
       "      <td>321</td>\n",
       "      <td>VLSIPIRYMHSQVELA</td>\n",
       "    </tr>\n",
       "    <tr>\n",
       "      <th>21</th>\n",
       "      <td>4</td>\n",
       "      <td>306</td>\n",
       "      <td>333</td>\n",
       "      <td>LSIPIRYMHSQVELADADDNTILKLKF</td>\n",
       "    </tr>\n",
       "  </tbody>\n",
       "</table>\n",
       "</div>"
      ],
      "text/plain": [
       "    temperature  start  end                                                seq\n",
       "0             4      3   21                                 DWELMKKIIESPGVSGYH\n",
       "1            45      7   23                                   MKKIIESPGVSGYEHL\n",
       "2             4      8   26                                 KKIIESPGVSGYEHLGIR\n",
       "3            60     12   28                                   ESPGVSGYEHLGIRDL\n",
       "4             4     16   32                                   VSGYEHLGIRDLVVDI\n",
       "5            45     17   33                                   SGYEHLGIRDLVVDIL\n",
       "6             4     18   66   GYEHLGIRDLVVDILKDKAHKGSAPVVAHMIGLMVNHIDDGYLRVVPI\n",
       "7            60     71   87                                   VNHIDKDGYLRVVPIG\n",
       "8             4     72   99                        NHIDKDGYLRVVPIGGVLPLKRFTKGR\n",
       "9            45     93  109                                   LIAQKIRFFTEKGERY\n",
       "10            4     94  143  IAQKIRFFTEKGERYGVVGLPPLREDQGGKIDWDSIIDEGFITIPFRLS\n",
       "11           60    154  170                                   GTIGEFAPNFTRLSEH\n",
       "12            4    155  171                                   TIGEFAPNFTRLSEHR\n",
       "13           60    157  173                                   GEFAPNFTRLSEHRFA\n",
       "14            4    158  224  EFAPNFTRLSEHRFATYLDRCLYAMIEAQLGEHEAIYIVASVQAPM...\n",
       "15           60    273  289                                   KYEIPLQVEPSPRPTG\n",
       "16            4    281  304                            EPSPRPTGTDANVMQINREGVAT\n",
       "17           60    289  305                                   TDANVMQINREGVATA\n",
       "18            4    290  310                               DANVMQINREGVATAVLPIR\n",
       "19           45    297  313                                   NREGVATAVLSIPIRY\n",
       "20           55    305  321                                   VLSIPIRYMHSQVELA\n",
       "21            4    306  333                        LSIPIRYMHSQVELADADDNTILKLKF"
      ]
     },
     "execution_count": 386,
     "metadata": {},
     "output_type": "execute_result"
    }
   ],
   "source": [
    "aa = 'MVDWELMKKIIESPGVSGYEHLGIRDLVVDILKDVADEVKIDKLGNVIAHFKGSAPKVMVAAHMDKIGLMVNHIDKDGYLRVVPIGGVLPETLIAQKIRFFT'+\\\n",
    "    'EKGERYGVVGVLPPHLRREAKDQGGKIDWDSIIVDVGASSREEAEEMGFRIGTIGEFAPNFTRLSEHRFATPYLDDRICLYAMIEAARQLGEHEADIYIVASVQ'+\\\n",
    "    'EEIGLRGARVASFAIDPEVGIAMDVTFAKQPNDKGKIVPELGKGPVMDVGPNINPKLRQFADEVAKKYEIPLQVEPSPRPTGTDANVMQINREGVATAVLSIPI'+\\\n",
    "    'RYMHSQVELADARDVDNTIKLAKALLEELKPMDFTP'\n",
    "aa_temp = 100\n",
    "\n",
    "client.kmer_predict(aa)\n",
    "client.get_temperature()\n",
    "client.draw_temp(aa_temp)\n",
    "client.get_region()"
   ]
  },
  {
   "cell_type": "code",
   "execution_count": null,
   "metadata": {},
   "outputs": [],
   "source": []
  },
  {
   "cell_type": "code",
   "execution_count": null,
   "metadata": {},
   "outputs": [],
   "source": []
  },
  {
   "cell_type": "code",
   "execution_count": null,
   "metadata": {},
   "outputs": [],
   "source": []
  },
  {
   "cell_type": "code",
   "execution_count": null,
   "metadata": {},
   "outputs": [],
   "source": []
  },
  {
   "cell_type": "code",
   "execution_count": null,
   "metadata": {},
   "outputs": [],
   "source": []
  },
  {
   "cell_type": "code",
   "execution_count": null,
   "metadata": {},
   "outputs": [],
   "source": []
  },
  {
   "cell_type": "code",
   "execution_count": null,
   "metadata": {},
   "outputs": [],
   "source": []
  },
  {
   "cell_type": "code",
   "execution_count": null,
   "metadata": {},
   "outputs": [],
   "source": []
  },
  {
   "cell_type": "code",
   "execution_count": null,
   "metadata": {},
   "outputs": [],
   "source": []
  },
  {
   "cell_type": "code",
   "execution_count": null,
   "metadata": {},
   "outputs": [],
   "source": []
  },
  {
   "cell_type": "code",
   "execution_count": null,
   "metadata": {},
   "outputs": [],
   "source": []
  },
  {
   "cell_type": "code",
   "execution_count": null,
   "metadata": {},
   "outputs": [],
   "source": []
  },
  {
   "cell_type": "code",
   "execution_count": null,
   "metadata": {},
   "outputs": [],
   "source": []
  },
  {
   "cell_type": "code",
   "execution_count": null,
   "metadata": {},
   "outputs": [],
   "source": []
  },
  {
   "cell_type": "markdown",
   "metadata": {},
   "source": []
  },
  {
   "cell_type": "code",
   "execution_count": null,
   "metadata": {},
   "outputs": [],
   "source": []
  },
  {
   "cell_type": "code",
   "execution_count": null,
   "metadata": {},
   "outputs": [],
   "source": []
  },
  {
   "cell_type": "code",
   "execution_count": 10,
   "metadata": {
    "id": "tKVWB8WShT-z"
   },
   "outputs": [],
   "source": [
    "#@title Step 5 Loading the Trained Tokenizer Files \n",
    "from tokenizers.implementations import ByteLevelBPETokenizer\n",
    "from tokenizers.processors import BertProcessing\n",
    "\n",
    "tokenizer = ByteLevelBPETokenizer(f\"./{output_name}/vocab.json\", f\"./{output_name}/merges.txt\")"
   ]
  },
  {
   "cell_type": "code",
   "execution_count": null,
   "metadata": {},
   "outputs": [],
   "source": []
  },
  {
   "cell_type": "code",
   "execution_count": null,
   "metadata": {},
   "outputs": [],
   "source": []
  },
  {
   "cell_type": "code",
   "execution_count": null,
   "metadata": {},
   "outputs": [],
   "source": []
  },
  {
   "cell_type": "code",
   "execution_count": null,
   "metadata": {},
   "outputs": [],
   "source": []
  },
  {
   "cell_type": "code",
   "execution_count": null,
   "metadata": {},
   "outputs": [],
   "source": []
  },
  {
   "cell_type": "code",
   "execution_count": null,
   "metadata": {},
   "outputs": [],
   "source": []
  }
 ],
 "metadata": {
  "accelerator": "GPU",
  "colab": {
   "collapsed_sections": [],
   "machine_shape": "hm",
   "name": "KantaiBERT_2.ipynb",
   "provenance": [],
   "toc_visible": true
  },
  "kernelspec": {
   "display_name": "Python 3 (ipykernel)",
   "language": "python",
   "name": "python3"
  },
  "language_info": {
   "codemirror_mode": {
    "name": "ipython",
    "version": 3
   },
   "file_extension": ".py",
   "mimetype": "text/x-python",
   "name": "python",
   "nbconvert_exporter": "python",
   "pygments_lexer": "ipython3",
   "version": "3.10.16"
  }
 },
 "nbformat": 4,
 "nbformat_minor": 4
}
