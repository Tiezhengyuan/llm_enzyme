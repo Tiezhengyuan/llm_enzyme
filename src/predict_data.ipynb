{
 "cells": [
  {
   "cell_type": "markdown",
   "id": "300af8ac-3f5d-4add-8654-926171be70dc",
   "metadata": {},
   "source": [
    "# model built in py310"
   ]
  },
  {
   "cell_type": "code",
   "execution_count": null,
   "id": "20e81084-1283-4a10-b37d-ad151915f4b2",
   "metadata": {},
   "outputs": [],
   "source": []
  },
  {
   "cell_type": "markdown",
   "id": "27898f0f-d83e-4a03-ab3e-4bcc2366c3ed",
   "metadata": {},
   "source": [
    "## test prediction"
   ]
  },
  {
   "cell_type": "code",
   "execution_count": 1,
   "id": "48eacce8-fd4c-40d7-8d22-0563711ae7a4",
   "metadata": {},
   "outputs": [
    {
     "name": "stderr",
     "output_type": "stream",
     "text": [
      "/home/yuan/anaconda3/envs/py310/lib/python3.10/site-packages/tqdm/auto.py:21: TqdmWarning: IProgress not found. Please update jupyter and ipywidgets. See https://ipywidgets.readthedocs.io/en/stable/user_install.html\n",
      "  from .autonotebook import tqdm as notebook_tqdm\n",
      "/home/yuan/anaconda3/envs/py310/lib/python3.10/site-packages/torchvision/datapoints/__init__.py:12: UserWarning: The torchvision.datapoints and torchvision.transforms.v2 namespaces are still Beta. While we do not expect major breaking changes, some APIs may still change according to user feedback. Please submit any feedback you may have in this issue: https://github.com/pytorch/vision/issues/6753, and you can also check out https://github.com/pytorch/vision/issues/7319 to learn more about the APIs that we suspect might involve future changes. You can silence this warning by calling torchvision.disable_beta_transforms_warning().\n",
      "  warnings.warn(_BETA_TRANSFORMS_WARNING)\n",
      "/home/yuan/anaconda3/envs/py310/lib/python3.10/site-packages/torchvision/transforms/v2/__init__.py:54: UserWarning: The torchvision.datapoints and torchvision.transforms.v2 namespaces are still Beta. While we do not expect major breaking changes, some APIs may still change according to user feedback. Please submit any feedback you may have in this issue: https://github.com/pytorch/vision/issues/6753, and you can also check out https://github.com/pytorch/vision/issues/7319 to learn more about the APIs that we suspect might involve future changes. You can silence this warning by calling torchvision.disable_beta_transforms_warning().\n",
      "  warnings.warn(_BETA_TRANSFORMS_WARNING)\n",
      "Device set to use cuda:0\n"
     ]
    }
   ],
   "source": [
    "# Language Modeling with the FillMaskPipeline\n",
    "from transformers import pipeline\n",
    "\n",
    "train_name = \"KantaiBERT\"\n",
    "fill_mask = pipeline(\n",
    "    \"fill-mask\",\n",
    "    model=f\"./{train_name}\",\n",
    "    tokenizer=f\"./{train_name}\"\n",
    ")"
   ]
  },
  {
   "cell_type": "code",
   "execution_count": 2,
   "id": "406b874b-d567-4746-9a67-fb506b6d5d4f",
   "metadata": {},
   "outputs": [
    {
     "name": "stdout",
     "output_type": "stream",
     "text": [
      "score               \ttoken\ttoken_str \tsequence\n",
      "  0.9982328414916992\t  225\t          \tRKGQIEVARNRERGLESEETEDEVPLTEGQTAEGQTETGTEEAPQTETGTEEAPIEHE is .\n",
      "0.0006016945117153227\t  367\t 37       \tRKGQIEVARNRERGLESEETEDEVPLTEGQTAEGQTETGTEEAPQTETGTEEAPIEHE is 37.\n",
      "0.00038450834108516574\t  431\t 26       \tRKGQIEVARNRERGLESEETEDEVPLTEGQTAEGQTETGTEEAPQTETGTEEAPIEHE is 26.\n",
      "0.0002451834443490952\t  488\t 30       \tRKGQIEVARNRERGLESEETEDEVPLTEGQTAEGQTETGTEEAPQTETGTEEAPIEHE is 30.\n",
      "3.5367800592212006e-05\t 2749\t 20       \tRKGQIEVARNRERGLESEETEDEVPLTEGQTAEGQTETGTEEAPQTETGTEEAPIEHE is 20.\n"
     ]
    }
   ],
   "source": [
    "pred = fill_mask(\"RKGQIEVARNRERGLESEETEDEVPLTEGQTAEGQTETGTEEAPQTETGTEEAPIEHE is <mask>.\")\n",
    "res = [list(pred[0])] + [list(i.values()) for i in pred]\n",
    "for i in res:\n",
    "    print(f\"{i[0]:20}\\t{i[1]:5}\\t{i[2]:10}\\t{i[3]}\")"
   ]
  },
  {
   "cell_type": "code",
   "execution_count": null,
   "id": "93419253-1649-4afd-b3cd-e7e313d8c862",
   "metadata": {},
   "outputs": [],
   "source": []
  },
  {
   "cell_type": "code",
   "execution_count": null,
   "id": "ab60a2a2-85e5-4f4a-b698-0b31b731cd96",
   "metadata": {},
   "outputs": [],
   "source": []
  },
  {
   "cell_type": "code",
   "execution_count": null,
   "id": "86a38179-cc20-4f20-9175-e7534e47fe1f",
   "metadata": {},
   "outputs": [],
   "source": []
  },
  {
   "cell_type": "code",
   "execution_count": null,
   "id": "a2948043-606c-4a9a-a308-41536d72e230",
   "metadata": {},
   "outputs": [],
   "source": []
  },
  {
   "cell_type": "markdown",
   "id": "c0b2f0a3-b51d-4fa8-a546-79e3712c60fb",
   "metadata": {},
   "source": [
    "## predict all trained data."
   ]
  },
  {
   "cell_type": "code",
   "execution_count": null,
   "id": "c03c4e05-984c-4f8f-83c5-c258745888bf",
   "metadata": {},
   "outputs": [],
   "source": []
  },
  {
   "cell_type": "code",
   "execution_count": null,
   "id": "2d2fffb0-73f5-4996-afe0-71bb850305b0",
   "metadata": {},
   "outputs": [],
   "source": [
    "import re\n",
    "n=m=0\n",
    "infile = \"data/temperature_mask/uniprot_sprot_mask.txt\"\n",
    "outfile = \"data/predict/uniprot_sprot_pred.txt\"\n",
    "with open(infile, 'r') as IN, open(outfile, 'w') as OUT:\n",
    "    for line in IN:\n",
    "        try:\n",
    "            line = line.rstrip()\n",
    "            aa, temp = line.split(' is ')\n",
    "            mask_line = re.sub(r' is .+', ' is <mask>', line)\n",
    "            pred = fill_mask(mask_line)\n",
    "            items = [aa, str(temp)] + [f\"{i['score']}:{i['token_str'].replace(' ', '')}\" for i in pred]\n",
    "            # print(temp, [i['token_str'] for i in pred])\n",
    "            items.append('\\n')\n",
    "            OUT.write('\\t'.join(items))\n",
    "            n+=1\n",
    "        except Exception as e:\n",
    "            m+=1\n",
    "            print(e)\n",
    "        # break\n",
    "print(f\"Total protein = {n}. failure protein={m}\")"
   ]
  },
  {
   "cell_type": "code",
   "execution_count": null,
   "id": "4fb5fee5-5a88-4660-ae93-8e6b46873f88",
   "metadata": {},
   "outputs": [],
   "source": [
    "import re\n",
    "n=m=0\n",
    "infile = \"data/temperature_mask/temperature_mask.txt\"\n",
    "outfile = \"data/temperature_pred/temperature_pred.txt\"\n",
    "with open(outfile, 'w') as OUT, open(infile, 'r') as IN:\n",
    "    for line in IN:\n",
    "        try:\n",
    "            line = line.rstrip()\n",
    "            aa, temp = line.split(' is ')\n",
    "            items = [aa, temp]\n",
    "            mask_line = re.sub(r'\\d+', '<mask>', line)\n",
    "            # print(_line)\n",
    "            pred = fill_mask(mask_line)\n",
    "            items += [f\"{i['score']}:{i['token_str'].replace(' ', '')}\" for i in pred]\n",
    "            items.append('\\n')\n",
    "            OUT.write('\\t'.join(items))\n",
    "            n+=1\n",
    "        except Exception as e:\n",
    "            m+=1\n",
    "            # print(e)\n",
    "print(f\"Total protein = {n}. failure protein={m}\")"
   ]
  },
  {
   "cell_type": "code",
   "execution_count": null,
   "id": "0ac6600b-25cc-45ba-9fad-1550eba4ecab",
   "metadata": {},
   "outputs": [],
   "source": []
  },
  {
   "cell_type": "code",
   "execution_count": null,
   "id": "6b41b7be-9234-4633-9864-b8cccdd102e0",
   "metadata": {},
   "outputs": [],
   "source": []
  },
  {
   "cell_type": "code",
   "execution_count": null,
   "id": "2c140613-8471-4566-bbde-8789fe367ac9",
   "metadata": {},
   "outputs": [],
   "source": []
  }
 ],
 "metadata": {
  "kernelspec": {
   "display_name": "Python 3 (ipykernel)",
   "language": "python",
   "name": "python3"
  },
  "language_info": {
   "codemirror_mode": {
    "name": "ipython",
    "version": 3
   },
   "file_extension": ".py",
   "mimetype": "text/x-python",
   "name": "python",
   "nbconvert_exporter": "python",
   "pygments_lexer": "ipython3",
   "version": "3.10.16"
  }
 },
 "nbformat": 4,
 "nbformat_minor": 5
}
